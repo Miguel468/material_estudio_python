{
 "cells": [
  {
   "cell_type": "markdown",
   "metadata": {},
   "source": [
    "# Aprendizaje de textos\n",
    "\n",
    "el largo de los textos no puede ser un input\n",
    "\n",
    "# Bolsa de palabras\n",
    "Es un diccionario de palabras conocidas\n",
    "\n",
    "\"Un buen curso de python\"\n",
    "\"Este curso de python es un muy buen curso\"\n",
    "\n",
    "bolsa = [buen, curso, python, programacion, texto, muy, pc]\n",
    "la frecuencia con la que se repiten las palabras\n",
    "1 = [1, 1, 1, 0, 0, 0, 0]\n",
    "2 = [1, 1, 1, 0, 0, 1, 0]\n",
    "\n",
    "**En scikit learn las bolsas de palabras se conocen como count vectorizer**"
   ]
  },
  {
   "cell_type": "code",
   "execution_count": 7,
   "metadata": {
    "collapsed": true
   },
   "outputs": [],
   "source": [
    "from sklearn.feature_extraction.text import CountVectorizer\n",
    "# creamos una bolsa de palabras\n",
    "vectorizer = CountVectorizer()"
   ]
  },
  {
   "cell_type": "code",
   "execution_count": 8,
   "metadata": {
    "collapsed": true
   },
   "outputs": [],
   "source": [
    "email1 = \" hola Alejandro el curso esta muy interesante\"\n",
    "email2 = \"hola Daniel cuando haras el proximo curso de python\""
   ]
  },
  {
   "cell_type": "code",
   "execution_count": 9,
   "metadata": {
    "collapsed": true
   },
   "outputs": [],
   "source": [
    "emails = [email1, email2]"
   ]
  },
  {
   "cell_type": "code",
   "execution_count": 10,
   "metadata": {
    "collapsed": true
   },
   "outputs": [],
   "source": [
    "#fit -->el algoritmo va a asignar un indice a las palabras\n",
    "bolsa = vectorizer.fit(emails)"
   ]
  },
  {
   "cell_type": "code",
   "execution_count": 11,
   "metadata": {
    "collapsed": true
   },
   "outputs": [],
   "source": [
    "#transform --> efectivamente va a contar la frecuencia de las palabras\n",
    "bolsa = vectorizer.transform(emails)"
   ]
  },
  {
   "cell_type": "code",
   "execution_count": 12,
   "metadata": {},
   "outputs": [
    {
     "name": "stdout",
     "output_type": "stream",
     "text": [
      "  (0, 0)\t1\n",
      "  (0, 2)\t1\n",
      "  (0, 5)\t1\n",
      "  (0, 6)\t1\n",
      "  (0, 8)\t1\n",
      "  (0, 9)\t1\n",
      "  (0, 10)\t1\n",
      "  (1, 1)\t1\n",
      "  (1, 2)\t1\n",
      "  (1, 3)\t1\n",
      "  (1, 4)\t1\n",
      "  (1, 5)\t1\n",
      "  (1, 7)\t1\n",
      "  (1, 8)\t1\n",
      "  (1, 11)\t1\n",
      "  (1, 12)\t1\n"
     ]
    }
   ],
   "source": [
    "print(bolsa)"
   ]
  },
  {
   "cell_type": "markdown",
   "metadata": {},
   "source": [
    "# stopwords\n",
    "palabras que ocurren de forma muy frecuente pero no contienen informacion relevante\n",
    "nltk.download() --> seleccionamos all corporora --> download"
   ]
  },
  {
   "cell_type": "code",
   "execution_count": 13,
   "metadata": {
    "collapsed": true
   },
   "outputs": [],
   "source": [
    "# importamos los stopwords\n",
    "from nltk.corpus import stopwords"
   ]
  },
  {
   "cell_type": "code",
   "execution_count": 14,
   "metadata": {
    "collapsed": true
   },
   "outputs": [],
   "source": [
    "#creamos una variable que contenga los stopwords en español\n",
    "sw = stopwords.words(\"spanish\")"
   ]
  },
  {
   "cell_type": "code",
   "execution_count": 15,
   "metadata": {},
   "outputs": [
    {
     "name": "stdout",
     "output_type": "stream",
     "text": [
      "['de', 'la', 'que', 'el', 'en', 'y', 'a', 'los', 'del', 'se', 'las', 'por', 'un', 'para', 'con', 'no', 'una', 'su', 'al', 'lo', 'como', 'más', 'pero', 'sus', 'le', 'ya', 'o', 'este', 'sí', 'porque', 'esta', 'entre', 'cuando', 'muy', 'sin', 'sobre', 'también', 'me', 'hasta', 'hay', 'donde', 'quien', 'desde', 'todo', 'nos', 'durante', 'todos', 'uno', 'les', 'ni', 'contra', 'otros', 'ese', 'eso', 'ante', 'ellos', 'e', 'esto', 'mí', 'antes', 'algunos', 'qué', 'unos', 'yo', 'otro', 'otras', 'otra', 'él', 'tanto', 'esa', 'estos', 'mucho', 'quienes', 'nada', 'muchos', 'cual', 'poco', 'ella', 'estar', 'estas', 'algunas', 'algo', 'nosotros', 'mi', 'mis', 'tú', 'te', 'ti', 'tu', 'tus', 'ellas', 'nosotras', 'vosostros', 'vosostras', 'os', 'mío', 'mía', 'míos', 'mías', 'tuyo', 'tuya', 'tuyos', 'tuyas', 'suyo', 'suya', 'suyos', 'suyas', 'nuestro', 'nuestra', 'nuestros', 'nuestras', 'vuestro', 'vuestra', 'vuestros', 'vuestras', 'esos', 'esas', 'estoy', 'estás', 'está', 'estamos', 'estáis', 'están', 'esté', 'estés', 'estemos', 'estéis', 'estén', 'estaré', 'estarás', 'estará', 'estaremos', 'estaréis', 'estarán', 'estaría', 'estarías', 'estaríamos', 'estaríais', 'estarían', 'estaba', 'estabas', 'estábamos', 'estabais', 'estaban', 'estuve', 'estuviste', 'estuvo', 'estuvimos', 'estuvisteis', 'estuvieron', 'estuviera', 'estuvieras', 'estuviéramos', 'estuvierais', 'estuvieran', 'estuviese', 'estuvieses', 'estuviésemos', 'estuvieseis', 'estuviesen', 'estando', 'estado', 'estada', 'estados', 'estadas', 'estad', 'he', 'has', 'ha', 'hemos', 'habéis', 'han', 'haya', 'hayas', 'hayamos', 'hayáis', 'hayan', 'habré', 'habrás', 'habrá', 'habremos', 'habréis', 'habrán', 'habría', 'habrías', 'habríamos', 'habríais', 'habrían', 'había', 'habías', 'habíamos', 'habíais', 'habían', 'hube', 'hubiste', 'hubo', 'hubimos', 'hubisteis', 'hubieron', 'hubiera', 'hubieras', 'hubiéramos', 'hubierais', 'hubieran', 'hubiese', 'hubieses', 'hubiésemos', 'hubieseis', 'hubiesen', 'habiendo', 'habido', 'habida', 'habidos', 'habidas', 'soy', 'eres', 'es', 'somos', 'sois', 'son', 'sea', 'seas', 'seamos', 'seáis', 'sean', 'seré', 'serás', 'será', 'seremos', 'seréis', 'serán', 'sería', 'serías', 'seríamos', 'seríais', 'serían', 'era', 'eras', 'éramos', 'erais', 'eran', 'fui', 'fuiste', 'fue', 'fuimos', 'fuisteis', 'fueron', 'fuera', 'fueras', 'fuéramos', 'fuerais', 'fueran', 'fuese', 'fueses', 'fuésemos', 'fueseis', 'fuesen', 'sintiendo', 'sentido', 'sentida', 'sentidos', 'sentidas', 'siente', 'sentid', 'tengo', 'tienes', 'tiene', 'tenemos', 'tenéis', 'tienen', 'tenga', 'tengas', 'tengamos', 'tengáis', 'tengan', 'tendré', 'tendrás', 'tendrá', 'tendremos', 'tendréis', 'tendrán', 'tendría', 'tendrías', 'tendríamos', 'tendríais', 'tendrían', 'tenía', 'tenías', 'teníamos', 'teníais', 'tenían', 'tuve', 'tuviste', 'tuvo', 'tuvimos', 'tuvisteis', 'tuvieron', 'tuviera', 'tuvieras', 'tuviéramos', 'tuvierais', 'tuvieran', 'tuviese', 'tuvieses', 'tuviésemos', 'tuvieseis', 'tuviesen', 'teniendo', 'tenido', 'tenida', 'tenidos', 'tenidas', 'tened']\n"
     ]
    }
   ],
   "source": [
    "#revisemos estas palabras que no contienen información muy relevante\n",
    "print (sw)"
   ]
  },
  {
   "cell_type": "markdown",
   "metadata": {},
   "source": [
    "# Vocabulario\n",
    "No todas las palabras unicas son diferentes, pues tenemos lo que se conoce como raiz o *stem* de la palabra\n",
    "<ul>\n",
    "    <li>comunicación</li>\n",
    "    <li>comunicar</li>\n",
    "    <li>comunicado</li>\n",
    "    <li>comunicador</li>\n",
    "\n",
    "En este caso la raiz sería \"comunica\", que según el caso particular de lo que estemos haciendo puede que sea de gran ayuda\n",
    "pues son palabras que tienen un contexto similar\n",
    "\n",
    "NLTK tiene varios *stemmers* "
   ]
  },
  {
   "cell_type": "code",
   "execution_count": null,
   "metadata": {
    "collapsed": true
   },
   "outputs": [],
   "source": [
    "#vamos a importar nuestro stemmer\n",
    "from nltk.stem import SnowballStemmer\n",
    "# creamos una instancia de nuestro stemmer\n",
    "stemmer = SnowballStemmer(\"spanish\")"
   ]
  },
  {
   "cell_type": "code",
   "execution_count": null,
   "metadata": {
    "collapsed": true
   },
   "outputs": [],
   "source": [
    "stemmer.stem(\"comunicado\")"
   ]
  },
  {
   "cell_type": "markdown",
   "metadata": {},
   "source": [
    "# Ejemplos\n",
    "\n",
    "Nuestro primer analisis va a ser buscar la cantidad de veces que aparece una palabra en un texto"
   ]
  },
  {
   "cell_type": "code",
   "execution_count": 1,
   "metadata": {},
   "outputs": [
    {
     "name": "stdout",
     "output_type": "stream",
     "text": [
      "*** Introductory Examples for the NLTK Book ***\n",
      "Loading text1, ..., text9 and sent1, ..., sent9\n",
      "Type the name of the text or sentence to view it.\n",
      "Type: 'texts()' or 'sents()' to list the materials.\n",
      "text1: Moby Dick by Herman Melville 1851\n",
      "text2: Sense and Sensibility by Jane Austen 1811\n",
      "text3: The Book of Genesis\n",
      "text4: Inaugural Address Corpus\n",
      "text5: Chat Corpus\n",
      "text6: Monty Python and the Holy Grail\n",
      "text7: Wall Street Journal\n",
      "text8: Personals Corpus\n",
      "text9: The Man Who Was Thursday by G . K . Chesterton 1908\n"
     ]
    }
   ],
   "source": [
    "from nltk.book import *"
   ]
  },
  {
   "cell_type": "code",
   "execution_count": 2,
   "metadata": {},
   "outputs": [
    {
     "name": "stdout",
     "output_type": "stream",
     "text": [
      "Displaying 25 of 150 matches:\n",
      ". \" A mariner sat in the shrouds one night , The wind was piping free ; Now bri\n",
      "d in New Bedford . It was a Saturday night in December . Much was I disappointe\n",
      "oon from the bowsprit ? Now having a night , a day , and still another night fo\n",
      " a night , a day , and still another night following before me in New Bedford ,\n",
      "oking , nay , a very dark and dismal night , bitingly cold and cheerless . I kn\n",
      "om you may conclude to lodge for the night , my dear Ishmael , be sure to inqui\n",
      "bout in a tomb . At this hour of the night , of the last day of the week , that\n",
      "s ) pooh , pooh ! What a fine frosty night ; how Orion glitters ; what northern\n",
      "kpits , especially of such a howling night , when this corner - anchored old ar\n",
      " about a strange town on so bitter a night , I would put up with the half of an\n",
      "pot where I had thought to spend the night . The devil fetch that harpooneer , \n",
      "ible chance of spending a sufferable night unless in some other person ' s bed \n",
      "ird what catches the worm . But to - night he went out a peddling , you see , a\n",
      "tually engaged this blessed Saturday night , or rather Sunday morning , in pedd\n",
      "be in all respects safe to spend the night with him . And in the first place , \n",
      " that one he ' s trying to sell to - night , cause to - morrow ' s Sunday , and\n",
      "pooneer who stayed out of a Saturday night clean into the holy Sabbath , engage\n",
      "Sal and me slept in that ere bed the night we were spliced . There ' s plenty o\n",
      "t a dreaming and sprawling about one night , and somehow , Sam got pitched on t\n",
      "you won ' t see that harpooneer to - night ; he ' s come to anchor somewhere --\n",
      " yourself comfortable now , and good night to ye .\" I turned round from eyeing \n",
      "neer ' s not coming home at all that night , it being so very late , I made no \n",
      "s broken into my room at the dead of night . In fact , I was so afraid of him t\n",
      " won ' t touch a leg of ye .\" \" Good night , landlord ,\" said I , \" you may go \n",
      "ound me . But at length all the past night ' s events soberly recurred , one by\n"
     ]
    }
   ],
   "source": [
    "# para este primer analsisis vamos a usar la funcion concordance() que recibe como argumento la palabra que queremos buscar\n",
    "text1.concordance(\"night\")"
   ]
  },
  {
   "cell_type": "code",
   "execution_count": 3,
   "metadata": {},
   "outputs": [
    {
     "data": {
      "image/png": "[encoded data removed]",
      "text/plain": [
       "<matplotlib.figure.Figure at 0x1cc4d6ffe10>"
      ]
     },
     "metadata": {},
     "output_type": "display_data"
    }
   ],
   "source": [
    "#otra funcion interesante es la posición en el texto donde se encuentran las palabras\n",
    "#veamoslo con el ejemplo de los discursos inaugurales de los estados unidos\n",
    "# y lo mostramos de forma elegante por medio de una grafica\n",
    "text4.dispersion_plot([\"citizens\", \"America\", \"democracy\", \"freedom\"])"
   ]
  },
  {
   "cell_type": "code",
   "execution_count": 4,
   "metadata": {
    "collapsed": true
   },
   "outputs": [],
   "source": [
    "# por ultimo vamos a buscar las palabras con mayor significancia dentro del texto\n",
    "#esto quiere decir, las palabras mas representativas, incluso esto podria ayudar a reconocer autores de libros por su estilo\n",
    "#de escritura\n",
    "dist1 = FreqDist(text1)"
   ]
  },
  {
   "cell_type": "code",
   "execution_count": 5,
   "metadata": {},
   "outputs": [
    {
     "data": {
      "text/plain": [
       "906"
      ]
     },
     "execution_count": 5,
     "metadata": {},
     "output_type": "execute_result"
    }
   ],
   "source": [
    "#podemos buscar palabras especificas\n",
    "dist1[\"whale\"]"
   ]
  },
  {
   "cell_type": "code",
   "execution_count": 6,
   "metadata": {},
   "outputs": [
    {
     "data": {
      "image/png": "[encoded data removed]",
      "text/plain": [
       "<matplotlib.figure.Figure at 0x1cc4f6197f0>"
      ]
     },
     "metadata": {},
     "output_type": "display_data"
    }
   ],
   "source": [
    "#Hagamos una grafica con las 25 palabras que mas se repiten en el texto\n",
    "dist1.plot(25)"
   ]
  },
  {
   "cell_type": "markdown",
   "metadata": {},
   "source": [
    "Como podemos ver, estas palabras no representan muy bien el texto, y son palabras que podrian ser calificadas como stopwords\n",
    "para mejorar esto, vamos a removerlas de nuestro texto y haremos de nuevo la grafica a ver si las 25 palabras tienen mas sentido"
   ]
  },
  {
   "cell_type": "code",
   "execution_count": 7,
   "metadata": {
    "collapsed": true
   },
   "outputs": [],
   "source": [
    "# usando nltk vamos a importar las stopwords en ingles pues el texto esta en ingles\n",
    "from nltk.corpus import stopwords\n",
    "sw = stopwords.words(\"english\")"
   ]
  },
  {
   "cell_type": "code",
   "execution_count": 8,
   "metadata": {
    "collapsed": true
   },
   "outputs": [],
   "source": [
    "# vamos a filtrar nuestro texto con las stopwords\n",
    "filtro = [palabra for palabra in text1 if palabra not in sw]"
   ]
  },
  {
   "cell_type": "code",
   "execution_count": 9,
   "metadata": {},
   "outputs": [
    {
     "data": {
      "text/plain": [
       "260819"
      ]
     },
     "execution_count": 9,
     "metadata": {},
     "output_type": "execute_result"
    }
   ],
   "source": [
    "# veamos que tanto nos ayudo el filtro\n",
    "len(text1)"
   ]
  },
  {
   "cell_type": "code",
   "execution_count": 10,
   "metadata": {},
   "outputs": [
    {
     "data": {
      "text/plain": [
       "161278"
      ]
     },
     "execution_count": 10,
     "metadata": {},
     "output_type": "execute_result"
    }
   ],
   "source": [
    "len(filtro)"
   ]
  },
  {
   "cell_type": "code",
   "execution_count": 11,
   "metadata": {},
   "outputs": [
    {
     "data": {
      "text/plain": [
       "99541"
      ]
     },
     "execution_count": 11,
     "metadata": {},
     "output_type": "execute_result"
    }
   ],
   "source": [
    "len(text1)-len(filtro)"
   ]
  },
  {
   "cell_type": "code",
   "execution_count": 12,
   "metadata": {},
   "outputs": [
    {
     "data": {
      "image/png": "[encoded data removed]",
      "text/plain": [
       "<matplotlib.figure.Figure at 0x1cc4d6ffe80>"
      ]
     },
     "metadata": {},
     "output_type": "display_data"
    }
   ],
   "source": [
    "#nueva grafica\n",
    "dist2 = FreqDist(filtro)\n",
    "dist2.plot(25)"
   ]
  },
  {
   "cell_type": "code",
   "execution_count": null,
   "metadata": {
    "collapsed": true
   },
   "outputs": [],
   "source": []
  }
 ],
 "metadata": {
  "kernelspec": {
   "display_name": "Python 3",
   "language": "python",
   "name": "python3"
  },
  "language_info": {
   "codemirror_mode": {
    "name": "ipython",
    "version": 3
   },
   "file_extension": ".py",
   "mimetype": "text/x-python",
   "name": "python",
   "nbconvert_exporter": "python",
   "pygments_lexer": "ipython3",
   "version": "3.7.6"
  }
 },
 "nbformat": 4,
 "nbformat_minor": 2
}
