{
 "cells": [
  {
   "cell_type": "markdown",
   "metadata": {},
   "source": [
    "# Métodos combinados - Bosque Aleatorio\n",
    "\n",
    "Mejor que usar un solo algoritmo, sería poder usar multiples algoritmos y sacar lo mejor de cada uno.\n",
    "\n",
    "El algoritmo de bosque combina varios arboles de decisión (de ahí el nombre bosque), y cada uno es entrenado en una porción aleatoria de los datos de entrada.\n",
    "\n",
    "<img src=\"random.png\" alt=\"random\" >\n",
    "\n",
    "Esto se hace con el objetivo de mejorar la robustez del algoritmo\n",
    "\n",
    "Existen muchos otros metodos de combinanción de algoritmos y se conocen como metodos ensamblados o en ingles *Ensemble methods*\n",
    "como Adaboost, gradiente...etc\n",
    "\n",
    "\n",
    "\n",
    "Para usar este algoritmo (y otros) debemos de seguir siempre 4 pasos:\n",
    "\n",
    "1. importar el algoritmo\n",
    "2. Crear el clasificador\n",
    "3. Entrenar el clasificador\n",
    "4. Hacer predicciones"
   ]
  },
  {
   "cell_type": "code",
   "execution_count": 1,
   "metadata": {
    "collapsed": true
   },
   "outputs": [],
   "source": [
    "#1 importamos el algoritmo\n",
    "from sklearn import datasets\n",
    "from sklearn.ensemble import RandomForestClassifier\n",
    "import numpy as np\n",
    "\n",
    "#vamos a usar los datos de unas plantas\n",
    "iris = datasets.load_iris()\n",
    "# almacenamos las caracteristicas de la planta en la variable X\n",
    "X = iris.data\n",
    "# tenemos 3 tipos de planta rotulada (labels): 0, 1 y 2\n",
    "y = iris.target"
   ]
  },
  {
   "cell_type": "code",
   "execution_count": 2,
   "metadata": {
    "collapsed": true
   },
   "outputs": [],
   "source": [
    "# Generalmente todo nuestro set de datos no se debe usar para entrenar nuestro algoritmo\n",
    "#la idea es poder tambien revisar la precision del mismo\n",
    "# entonces debemos de partir nuestros datos en datos de entrenamiento y datos de prueba\n",
    "#sklearn tiene este paso vital ya resuelto para que nosotros lo hagamos de la forma mas sencilla posible\n",
    "from sklearn.model_selection import train_test_split\n",
    "X_train, X_test, y_train, y_test = train_test_split(X, y, random_state = 0)"
   ]
  },
  {
   "cell_type": "code",
   "execution_count": 3,
   "metadata": {},
   "outputs": [],
   "source": [
    "#2 creamos nuestro clasificador, donde n_estimators es el número de arboles de decisión que queremos usar\n",
    "#para conformar el \"bosque\n",
    "clf = RandomForestClassifier(n_estimators=100)"
   ]
  },
  {
   "cell_type": "code",
   "execution_count": 4,
   "metadata": {},
   "outputs": [
    {
     "data": {
      "text/plain": [
       "RandomForestClassifier(bootstrap=True, class_weight=None, criterion='gini',\n",
       "            max_depth=None, max_features='auto', max_leaf_nodes=None,\n",
       "            min_impurity_split=1e-07, min_samples_leaf=1,\n",
       "            min_samples_split=2, min_weight_fraction_leaf=0.0,\n",
       "            n_estimators=100, n_jobs=1, oob_score=False, random_state=None,\n",
       "            verbose=0, warm_start=False)"
      ]
     },
     "execution_count": 4,
     "metadata": {},
     "output_type": "execute_result"
    }
   ],
   "source": [
    "#3 Entrenamos nuestro clasificador usando los datos para entrenarlo por medio de la funcion fit\n",
    "clf.fit(X_train, y_train)"
   ]
  },
  {
   "cell_type": "code",
   "execution_count": 5,
   "metadata": {
    "collapsed": true
   },
   "outputs": [],
   "source": [
    "#4 Hacemos predicciones con la funcion predict() que recibe como argumentos las caracteristicas de prueba\n",
    "pred = clf.predict(X_test)"
   ]
  },
  {
   "cell_type": "code",
   "execution_count": 6,
   "metadata": {},
   "outputs": [
    {
     "name": "stdout",
     "output_type": "stream",
     "text": [
      "0.973684210526\n"
     ]
    }
   ],
   "source": [
    "# vamos a importar una medición de la precisión de nuestro algoritmo\n",
    "# osea que tan bien esta haciendo el trabajo nuestro clasificador\n",
    "from sklearn.metrics import accuracy_score\n",
    "acc = accuracy_score(pred, y_test)\n",
    "print (acc)"
   ]
  },
  {
   "cell_type": "code",
   "execution_count": null,
   "metadata": {
    "collapsed": true
   },
   "outputs": [],
   "source": []
  }
 ],
 "metadata": {
  "kernelspec": {
   "display_name": "Python 3",
   "language": "python",
   "name": "python3"
  },
  "language_info": {
   "codemirror_mode": {
    "name": "ipython",
    "version": 3
   },
   "file_extension": ".py",
   "mimetype": "text/x-python",
   "name": "python",
   "nbconvert_exporter": "python",
   "pygments_lexer": "ipython3",
   "version": "3.7.6"
  }
 },
 "nbformat": 4,
 "nbformat_minor": 2
}
