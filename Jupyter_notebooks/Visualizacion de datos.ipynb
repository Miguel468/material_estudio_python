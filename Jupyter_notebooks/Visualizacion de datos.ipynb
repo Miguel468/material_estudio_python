{
 "cells": [
  {
   "cell_type": "code",
   "execution_count": 1,
   "metadata": {
    "collapsed": true
   },
   "outputs": [],
   "source": [
    "import numpy as np\n",
    "%matplotlib inline\n",
    "import matplotlib.pyplot as plt"
   ]
  },
  {
   "cell_type": "markdown",
   "metadata": {},
   "source": [
    "# Gráfico de barras:"
   ]
  },
  {
   "cell_type": "code",
   "execution_count": 2,
   "metadata": {
    "collapsed": true
   },
   "outputs": [],
   "source": [
    "ejeX=np.array([1,2,3,4,5,6,7,8,9,10])\n",
    "YBill=np.array([78.8e7, 79.6e7, 76e7, 77.2e7, 75e7, 76e7, 78e7, 81e7, 86e7, 88.9e7])\n",
    "YJeff=np.array([27.2e7,32e7,30.5e7,34.8e7,47.8e7,47e7,45.2e7,66.2e7,67e7,72.8e7])\n"
   ]
  },
  {
   "cell_type": "code",
   "execution_count": 3,
   "metadata": {},
   "outputs": [
    {
     "data": {
      "image/png": "[encoded data removed]",
      "text/plain": [
       "<matplotlib.figure.Figure at 0x1f2df5a56a0>"
      ]
     },
     "metadata": {},
     "output_type": "display_data"
    }
   ],
   "source": [
    "ancho_barra=0.25\n",
    "plt.bar(ejeX,YBill,width=ancho_barra,label='Bill Gates')\n",
    "plt.bar(ejeX+ancho_barra,YJeff,width=ancho_barra,label='Jeff Bezos')\n",
    "meses=['Abril 2015', 'Agosto 2015', 'Septiembre 2015', 'Enero 2016','Marzo 2016', 'Mayo 2016','Agosto 2016','Octubre 2016', 'Marzo 2017', 'Junio 2017']\n",
    "plt.xticks(ejeX-0.5,meses,rotation=45)\n",
    "\n",
    "plt.ylim(0,90e7)\n",
    "plt.ylabel('Riqueza neta [MUSD$]')\n",
    "\n",
    "plt.grid(True)\n",
    "plt.legend()\n",
    "plt.show()"
   ]
  },
  {
   "cell_type": "markdown",
   "metadata": {},
   "source": [
    "# Gráfico de línea e histograma"
   ]
  },
  {
   "cell_type": "code",
   "execution_count": 4,
   "metadata": {
    "collapsed": true
   },
   "outputs": [],
   "source": [
    "import pandas as pd"
   ]
  },
  {
   "cell_type": "markdown",
   "metadata": {},
   "source": [
    "<a> https://www.kaggle.com/worldbank/world-development-indicators"
   ]
  },
  {
   "cell_type": "code",
   "execution_count": 5,
   "metadata": {
    "collapsed": true
   },
   "outputs": [],
   "source": [
    "datos=pd.read_csv('Datos Banco Mundial/Indicators.csv')"
   ]
  },
  {
   "cell_type": "markdown",
   "metadata": {},
   "source": [
    "**Visualización en forma de tabla:**"
   ]
  },
  {
   "cell_type": "code",
   "execution_count": 6,
   "metadata": {},
   "outputs": [
    {
     "data": {
      "text/html": [
       "<div>\n",
       "<style>\n",
       "    .dataframe thead tr:only-child th {\n",
       "        text-align: right;\n",
       "    }\n",
       "\n",
       "    .dataframe thead th {\n",
       "        text-align: left;\n",
       "    }\n",
       "\n",
       "    .dataframe tbody tr th {\n",
       "        vertical-align: top;\n",
       "    }\n",
       "</style>\n",
       "<table border=\"1\" class=\"dataframe\">\n",
       "  <thead>\n",
       "    <tr style=\"text-align: right;\">\n",
       "      <th></th>\n",
       "      <th>CountryName</th>\n",
       "      <th>CountryCode</th>\n",
       "      <th>IndicatorName</th>\n",
       "      <th>IndicatorCode</th>\n",
       "      <th>Year</th>\n",
       "      <th>Value</th>\n",
       "    </tr>\n",
       "  </thead>\n",
       "  <tbody>\n",
       "    <tr>\n",
       "      <th>0</th>\n",
       "      <td>Arab World</td>\n",
       "      <td>ARB</td>\n",
       "      <td>Adolescent fertility rate (births per 1,000 wo...</td>\n",
       "      <td>SP.ADO.TFRT</td>\n",
       "      <td>1960</td>\n",
       "      <td>1.335609e+02</td>\n",
       "    </tr>\n",
       "    <tr>\n",
       "      <th>1</th>\n",
       "      <td>Arab World</td>\n",
       "      <td>ARB</td>\n",
       "      <td>Age dependency ratio (% of working-age populat...</td>\n",
       "      <td>SP.POP.DPND</td>\n",
       "      <td>1960</td>\n",
       "      <td>8.779760e+01</td>\n",
       "    </tr>\n",
       "    <tr>\n",
       "      <th>2</th>\n",
       "      <td>Arab World</td>\n",
       "      <td>ARB</td>\n",
       "      <td>Age dependency ratio, old (% of working-age po...</td>\n",
       "      <td>SP.POP.DPND.OL</td>\n",
       "      <td>1960</td>\n",
       "      <td>6.634579e+00</td>\n",
       "    </tr>\n",
       "    <tr>\n",
       "      <th>3</th>\n",
       "      <td>Arab World</td>\n",
       "      <td>ARB</td>\n",
       "      <td>Age dependency ratio, young (% of working-age ...</td>\n",
       "      <td>SP.POP.DPND.YG</td>\n",
       "      <td>1960</td>\n",
       "      <td>8.102333e+01</td>\n",
       "    </tr>\n",
       "    <tr>\n",
       "      <th>4</th>\n",
       "      <td>Arab World</td>\n",
       "      <td>ARB</td>\n",
       "      <td>Arms exports (SIPRI trend indicator values)</td>\n",
       "      <td>MS.MIL.XPRT.KD</td>\n",
       "      <td>1960</td>\n",
       "      <td>3.000000e+06</td>\n",
       "    </tr>\n",
       "  </tbody>\n",
       "</table>\n",
       "</div>"
      ],
      "text/plain": [
       "  CountryName CountryCode                                      IndicatorName  \\\n",
       "0  Arab World         ARB  Adolescent fertility rate (births per 1,000 wo...   \n",
       "1  Arab World         ARB  Age dependency ratio (% of working-age populat...   \n",
       "2  Arab World         ARB  Age dependency ratio, old (% of working-age po...   \n",
       "3  Arab World         ARB  Age dependency ratio, young (% of working-age ...   \n",
       "4  Arab World         ARB        Arms exports (SIPRI trend indicator values)   \n",
       "\n",
       "    IndicatorCode  Year         Value  \n",
       "0     SP.ADO.TFRT  1960  1.335609e+02  \n",
       "1     SP.POP.DPND  1960  8.779760e+01  \n",
       "2  SP.POP.DPND.OL  1960  6.634579e+00  \n",
       "3  SP.POP.DPND.YG  1960  8.102333e+01  \n",
       "4  MS.MIL.XPRT.KD  1960  3.000000e+06  "
      ]
     },
     "execution_count": 6,
     "metadata": {},
     "output_type": "execute_result"
    }
   ],
   "source": [
    "datos.head()"
   ]
  },
  {
   "cell_type": "markdown",
   "metadata": {},
   "source": [
    "**¿Cuántos datos hay?**"
   ]
  },
  {
   "cell_type": "code",
   "execution_count": 7,
   "metadata": {},
   "outputs": [
    {
     "data": {
      "text/plain": [
       "(5656458, 6)"
      ]
     },
     "execution_count": 7,
     "metadata": {},
     "output_type": "execute_result"
    }
   ],
   "source": [
    "datos.shape"
   ]
  },
  {
   "cell_type": "markdown",
   "metadata": {},
   "source": [
    "**¿Cuántos países hay en el la base de datos?**"
   ]
  },
  {
   "cell_type": "code",
   "execution_count": 8,
   "metadata": {},
   "outputs": [
    {
     "data": {
      "text/plain": [
       "247"
      ]
     },
     "execution_count": 8,
     "metadata": {},
     "output_type": "execute_result"
    }
   ],
   "source": [
    "codigosPaises=datos['CountryCode'].unique().tolist()\n",
    "len(codigosPaises)"
   ]
  },
  {
   "cell_type": "markdown",
   "metadata": {},
   "source": [
    "**¿Cuáles y cuántos indicadores hay?**"
   ]
  },
  {
   "cell_type": "code",
   "execution_count": 9,
   "metadata": {},
   "outputs": [
    {
     "name": "stdout",
     "output_type": "stream",
     "text": [
      "['Adolescent fertility rate (births per 1,000 women ages 15-19)', 'Age dependency ratio (% of working-age population)', 'Age dependency ratio, old (% of working-age population)', 'Age dependency ratio, young (% of working-age population)', 'Arms exports (SIPRI trend indicator values)', 'Arms imports (SIPRI trend indicator values)', 'Birth rate, crude (per 1,000 people)', 'CO2 emissions (kt)', 'CO2 emissions (metric tons per capita)', 'CO2 emissions from gaseous fuel consumption (% of total)', 'CO2 emissions from liquid fuel consumption (% of total)', 'CO2 emissions from liquid fuel consumption (kt)', 'CO2 emissions from solid fuel consumption (% of total)', 'Death rate, crude (per 1,000 people)', 'Fertility rate, total (births per woman)', 'Fixed telephone subscriptions', 'Fixed telephone subscriptions (per 100 people)', 'Hospital beds (per 1,000 people)', 'International migrant stock (% of population)', 'International migrant stock, total', 'Life expectancy at birth, female (years)', 'Life expectancy at birth, male (years)', 'Life expectancy at birth, total (years)', 'Merchandise exports (current US$)', 'Merchandise exports by the reporting economy (current US$)', 'Merchandise exports by the reporting economy, residual (% of total merchandise exports)', 'Merchandise exports to developing economies in East Asia & Pacific (% of total merchandise exports)', 'Merchandise exports to developing economies in Latin America & the Caribbean (% of total merchandise exports)', 'Merchandise exports to developing economies in Middle East & North Africa (% of total merchandise exports)', 'Merchandise exports to developing economies in South Asia (% of total merchandise exports)', 'Merchandise exports to developing economies in Sub-Saharan Africa (% of total merchandise exports)', 'Merchandise exports to developing economies outside region (% of total merchandise exports)', 'Merchandise exports to developing economies within region (% of total merchandise exports)', 'Merchandise exports to economies in the Arab World (% of total merchandise exports)', 'Merchandise exports to high-income economies (% of total merchandise exports)', 'Merchandise imports (current US$)', 'Merchandise imports by the reporting economy (current US$)', 'Merchandise imports by the reporting economy, residual (% of total merchandise imports)', 'Merchandise imports from developing economies in East Asia & Pacific (% of total merchandise imports)', 'Merchandise imports from developing economies in Latin America & the Caribbean (% of total merchandise imports)', 'Merchandise imports from developing economies in Middle East & North Africa (% of total merchandise imports)', 'Merchandise imports from developing economies in South Asia (% of total merchandise imports)', 'Merchandise imports from developing economies in Sub-Saharan Africa (% of total merchandise imports)', 'Merchandise imports from developing economies outside region (% of total merchandise imports)', 'Merchandise imports from developing economies within region (% of total merchandise imports)', 'Merchandise imports from economies in the Arab World (% of total merchandise imports)', 'Merchandise imports from high-income economies (% of total merchandise imports)', 'Merchandise trade (% of GDP)', 'Mobile cellular subscriptions', 'Mobile cellular subscriptions (per 100 people)', 'Mortality rate, adult, female (per 1,000 female adults)', 'Mortality rate, adult, male (per 1,000 male adults)', 'Mortality rate, infant (per 1,000 live births)', 'Mortality rate, under-5 (per 1,000)', 'Net bilateral aid flows from DAC donors, European Union institutions (current US$)', 'Net bilateral aid flows from DAC donors, France (current US$)', 'Net bilateral aid flows from DAC donors, Germany (current US$)', 'Net bilateral aid flows from DAC donors, Italy (current US$)', 'Net bilateral aid flows from DAC donors, Japan (current US$)', 'Net bilateral aid flows from DAC donors, Total (current US$)', 'Net bilateral aid flows from DAC donors, United Kingdom (current US$)', 'Net bilateral aid flows from DAC donors, United States (current US$)', 'Net ODA received per capita (current US$)', 'Net official development assistance and official aid received (constant 2012 US$)', 'Net official development assistance and official aid received (current US$)', 'Net official development assistance received (constant 2012 US$)', 'Net official development assistance received (current US$)', 'Population ages 65 and above (% of total)', 'Population in the largest city (% of urban population)', 'Population in urban agglomerations of more than 1 million (% of total population)', 'Population, ages 0-14 (% of total)', 'Population, ages 15-64 (% of total)', 'Population, female (% of total)', 'Population, total', 'Rural population', 'Rural population (% of total population)', 'Survival to age 65, female (% of cohort)', 'Survival to age 65, male (% of cohort)', 'Urban population', 'Urban population (% of total)', 'Exports of goods and services (current US$)', 'GDP at market prices (current US$)', 'GDP per capita (current US$)', 'GNI (current US$)', 'Gross capital formation (current US$)', 'Net bilateral aid flows from DAC donors, Canada (current US$)', 'Net bilateral aid flows from DAC donors, Netherlands (current US$)', 'Net ODA received (% of GNI)', 'Net ODA received (% of gross capital formation)', 'Alternative and nuclear energy (% of total energy use)', 'CO2 emissions from electricity and heat production, total (% of total fuel combustion)', 'CO2 emissions from manufacturing industries and construction (% of total fuel combustion)', 'CO2 emissions from other sectors, excluding residential buildings and commercial and public services (% of total fuel combustion)', 'CO2 emissions from residential buildings and commercial and public services (% of total fuel combustion)', 'CO2 emissions from solid fuel consumption (kt)', 'CO2 emissions from transport (% of total fuel combustion)', 'CO2 intensity (kg per kg of oil equivalent energy use)', 'Combustible renewables and waste (% of total energy)', 'Electric power transmission and distribution losses (% of output)', 'Electricity production from renewable sources, excluding hydroelectric (kWh)']\n"
     ]
    },
    {
     "data": {
      "text/plain": [
       "1344"
      ]
     },
     "execution_count": 9,
     "metadata": {},
     "output_type": "execute_result"
    }
   ],
   "source": [
    "indicadores=datos['IndicatorName'].unique().tolist()\n",
    "print (indicadores[:100])\n",
    "len(indicadores)"
   ]
  },
  {
   "cell_type": "markdown",
   "metadata": {},
   "source": [
    "**¿Cuántos años de datos hay?**"
   ]
  },
  {
   "cell_type": "code",
   "execution_count": 10,
   "metadata": {},
   "outputs": [
    {
     "data": {
      "text/plain": [
       "56"
      ]
     },
     "execution_count": 10,
     "metadata": {},
     "output_type": "execute_result"
    }
   ],
   "source": [
    "años=datos['Year'].unique().tolist()\n",
    "len(años)"
   ]
  },
  {
   "cell_type": "markdown",
   "metadata": {},
   "source": [
    "**¿Qué rango de años?**"
   ]
  },
  {
   "cell_type": "code",
   "execution_count": 11,
   "metadata": {},
   "outputs": [
    {
     "name": "stdout",
     "output_type": "stream",
     "text": [
      "1960  -  2015\n"
     ]
    }
   ],
   "source": [
    "print(min(años),' - ',max(años))"
   ]
  },
  {
   "cell_type": "markdown",
   "metadata": {},
   "source": [
    "**Visualización de datos:**"
   ]
  },
  {
   "cell_type": "code",
   "execution_count": 22,
   "metadata": {},
   "outputs": [
    {
     "data": {
      "text/plain": [
       "['CO2 emissions (metric tons per capita)',\n",
       " 'Net ODA received per capita (current US$)',\n",
       " 'GDP per capita (current US$)',\n",
       " 'GDP per capita (constant 2005 US$)',\n",
       " 'GNI per capita (constant 2005 US$)',\n",
       " 'Electric power consumption (kWh per capita)',\n",
       " 'Energy use (kg of oil equivalent per capita)',\n",
       " 'Household final consumption expenditure per capita (constant 2005 US$)',\n",
       " 'GDP per capita (current LCU)',\n",
       " 'GNI per capita (current LCU)',\n",
       " 'GDP per capita (constant LCU)',\n",
       " 'GNI per capita (constant LCU)',\n",
       " 'GDP per capita growth (annual %)',\n",
       " 'GNI per capita growth (annual %)',\n",
       " 'Household final consumption expenditure per capita growth (annual %)',\n",
       " 'Renewable internal freshwater resources per capita (cubic meters)',\n",
       " 'GNI per capita, Atlas method (current US$)',\n",
       " 'Adjusted net national income per capita (current US$)',\n",
       " 'Adjusted net national income per capita (constant 2005 US$)',\n",
       " 'Adjusted net national income per capita (annual % growth)',\n",
       " 'Government expenditure per secondary student as % of GDP per capita (%)',\n",
       " 'Government expenditure per primary student as % of GDP per capita (%)',\n",
       " 'Government expenditure per tertiary student as % of GDP per capita (%)',\n",
       " 'GDP per capita, PPP (constant 2011 international $)',\n",
       " 'GDP per capita, PPP (current international $)',\n",
       " 'GNI per capita, PPP (current international $)',\n",
       " 'GNI per capita, PPP (constant 2011 international $)',\n",
       " 'Health expenditure per capita (current US$)',\n",
       " 'Health expenditure per capita, PPP (constant 2011 international $)',\n",
       " 'Cost of business start-up procedures (% of GNI per capita)',\n",
       " 'Survey mean consumption or income per capita, bottom 40% of population (2011 PPP $ per day)',\n",
       " 'Survey mean consumption or income per capita, total population (2011 PPP $ per day)',\n",
       " 'Survey mean consumption or income per capita, bottom 40% of population (2005 PPP $ per day)',\n",
       " 'Survey mean consumption or income per capita, total population (2005 PPP $ per day)',\n",
       " 'Annualized average growth rate in per capita real survey mean consumption or income, bottom 40% of population (%)',\n",
       " 'Annualized average growth rate in per capita real survey mean consumption or income, total population (%)']"
      ]
     },
     "execution_count": 22,
     "metadata": {},
     "output_type": "execute_result"
    }
   ],
   "source": [
    "#indicador='CO2 emissions \\(metric tons per capita'\n",
    "indicador='per capita'\n",
    "#pais='COL'\n",
    "\n",
    "filtro1=datos['IndicatorName'].str.contains(indicador)\n",
    "#filtro2=datos['CountryCode'].str.contains(pais)\n",
    "\n",
    "datosFiltrados=datos[filtro1]# & filtro2]\n",
    "datosFiltrados['IndicatorName'].unique().tolist()"
   ]
  },
  {
   "cell_type": "code",
   "execution_count": 16,
   "metadata": {},
   "outputs": [
    {
     "data": {
      "text/html": [
       "<div>\n",
       "<style>\n",
       "    .dataframe thead tr:only-child th {\n",
       "        text-align: right;\n",
       "    }\n",
       "\n",
       "    .dataframe thead th {\n",
       "        text-align: left;\n",
       "    }\n",
       "\n",
       "    .dataframe tbody tr th {\n",
       "        vertical-align: top;\n",
       "    }\n",
       "</style>\n",
       "<table border=\"1\" class=\"dataframe\">\n",
       "  <thead>\n",
       "    <tr style=\"text-align: right;\">\n",
       "      <th></th>\n",
       "      <th>CountryName</th>\n",
       "      <th>CountryCode</th>\n",
       "      <th>IndicatorName</th>\n",
       "      <th>IndicatorCode</th>\n",
       "      <th>Year</th>\n",
       "      <th>Value</th>\n",
       "    </tr>\n",
       "  </thead>\n",
       "  <tbody>\n",
       "    <tr>\n",
       "      <th>7</th>\n",
       "      <td>Arab World</td>\n",
       "      <td>ARB</td>\n",
       "      <td>CO2 emissions (kt)</td>\n",
       "      <td>EN.ATM.CO2E.KT</td>\n",
       "      <td>1960</td>\n",
       "      <td>59563.989217</td>\n",
       "    </tr>\n",
       "    <tr>\n",
       "      <th>8</th>\n",
       "      <td>Arab World</td>\n",
       "      <td>ARB</td>\n",
       "      <td>CO2 emissions (metric tons per capita)</td>\n",
       "      <td>EN.ATM.CO2E.PC</td>\n",
       "      <td>1960</td>\n",
       "      <td>0.643964</td>\n",
       "    </tr>\n",
       "    <tr>\n",
       "      <th>9</th>\n",
       "      <td>Arab World</td>\n",
       "      <td>ARB</td>\n",
       "      <td>CO2 emissions from gaseous fuel consumption (%...</td>\n",
       "      <td>EN.ATM.CO2E.GF.ZS</td>\n",
       "      <td>1960</td>\n",
       "      <td>5.041292</td>\n",
       "    </tr>\n",
       "    <tr>\n",
       "      <th>10</th>\n",
       "      <td>Arab World</td>\n",
       "      <td>ARB</td>\n",
       "      <td>CO2 emissions from liquid fuel consumption (% ...</td>\n",
       "      <td>EN.ATM.CO2E.LF.ZS</td>\n",
       "      <td>1960</td>\n",
       "      <td>84.851473</td>\n",
       "    </tr>\n",
       "    <tr>\n",
       "      <th>11</th>\n",
       "      <td>Arab World</td>\n",
       "      <td>ARB</td>\n",
       "      <td>CO2 emissions from liquid fuel consumption (kt)</td>\n",
       "      <td>EN.ATM.CO2E.LF.KT</td>\n",
       "      <td>1960</td>\n",
       "      <td>49541.707291</td>\n",
       "    </tr>\n",
       "  </tbody>\n",
       "</table>\n",
       "</div>"
      ],
      "text/plain": [
       "   CountryName CountryCode                                      IndicatorName  \\\n",
       "7   Arab World         ARB                                 CO2 emissions (kt)   \n",
       "8   Arab World         ARB             CO2 emissions (metric tons per capita)   \n",
       "9   Arab World         ARB  CO2 emissions from gaseous fuel consumption (%...   \n",
       "10  Arab World         ARB  CO2 emissions from liquid fuel consumption (% ...   \n",
       "11  Arab World         ARB    CO2 emissions from liquid fuel consumption (kt)   \n",
       "\n",
       "        IndicatorCode  Year         Value  \n",
       "7      EN.ATM.CO2E.KT  1960  59563.989217  \n",
       "8      EN.ATM.CO2E.PC  1960      0.643964  \n",
       "9   EN.ATM.CO2E.GF.ZS  1960      5.041292  \n",
       "10  EN.ATM.CO2E.LF.ZS  1960     84.851473  \n",
       "11  EN.ATM.CO2E.LF.KT  1960  49541.707291  "
      ]
     },
     "execution_count": 16,
     "metadata": {},
     "output_type": "execute_result"
    }
   ],
   "source": [
    "datosFiltrados.head()"
   ]
  },
  {
   "cell_type": "markdown",
   "metadata": {},
   "source": [
    "Gráfico de barras:"
   ]
  },
  {
   "cell_type": "code",
   "execution_count": 14,
   "metadata": {},
   "outputs": [
    {
     "name": "stdout",
     "output_type": "stream",
     "text": [
      "<class 'numpy.ndarray'>\n"
     ]
    },
    {
     "data": {
      "image/png": "[encoded data removed]",
      "text/plain": [
       "<matplotlib.figure.Figure at 0x1fdad97d7b8>"
      ]
     },
     "metadata": {},
     "output_type": "display_data"
    }
   ],
   "source": [
    "años=datosFiltrados['Year'].values\n",
    "co2=datosFiltrados['Value'].values\n",
    "print (type(años))\n",
    "plt.bar(años,co2)\n",
    "\n",
    "plt.show()"
   ]
  },
  {
   "cell_type": "markdown",
   "metadata": {},
   "source": [
    "Gráfico de línea:"
   ]
  },
  {
   "cell_type": "code",
   "execution_count": 15,
   "metadata": {},
   "outputs": [
    {
     "name": "stdout",
     "output_type": "stream",
     "text": [
      "<class 'numpy.ndarray'>\n"
     ]
    },
    {
     "data": {
      "image/png": "[encoded data removed]",
      "text/plain": [
       "<matplotlib.figure.Figure at 0x1fdad97db38>"
      ]
     },
     "metadata": {},
     "output_type": "display_data"
    }
   ],
   "source": [
    "plt.plot(datosFiltrados['Year'].values,datosFiltrados['Value'].values)\n",
    "print (type(datosFiltrados['Year'].values))\n",
    "plt.xlabel('Year')\n",
    "plt.ylabel(datosFiltrados['IndicatorName'].iloc[0])\n",
    "\n",
    "plt.title('Emisiones de CO2 en ' + pais)\n",
    "plt.axis([1959,2011,0,2])\n",
    "\n",
    "plt.show()"
   ]
  },
  {
   "cell_type": "markdown",
   "metadata": {},
   "source": [
    "Histograma:"
   ]
  },
  {
   "cell_type": "code",
   "execution_count": 22,
   "metadata": {},
   "outputs": [
    {
     "data": {
      "image/png": "[encoded data removed]",
      "text/plain": [
       "<matplotlib.figure.Figure at 0x297af687c18>"
      ]
     },
     "metadata": {},
     "output_type": "display_data"
    }
   ],
   "source": [
    "plt.hist(datosFiltrados['Value'].values,20,normed=False,facecolor='green')\n",
    "\n",
    "plt.xlabel(datosFiltrados['IndicatorName'].iloc[0])\n",
    "plt.ylabel('# de años')\n",
    "plt.title('Ejemplo de Histograma')\n",
    "\n",
    "plt.grid(True)\n",
    "\n",
    "plt.show()"
   ]
  },
  {
   "cell_type": "markdown",
   "metadata": {},
   "source": [
    "# Gráfico de dispersión (ScatterPlot)"
   ]
  },
  {
   "cell_type": "code",
   "execution_count": 16,
   "metadata": {},
   "outputs": [
    {
     "name": "stdout",
     "output_type": "stream",
     "text": [
      "22 55\n"
     ]
    },
    {
     "data": {
      "image/png": "[encoded data removed]",
      "text/plain": [
       "<matplotlib.figure.Figure at 0x1fd988bde48>"
      ]
     },
     "metadata": {},
     "output_type": "display_data"
    }
   ],
   "source": [
    "indicador1='Government expenditure on education'\n",
    "indicador2='GDP per capita \\(constant 2005'\n",
    "\n",
    "pais='COL'\n",
    "\n",
    "\n",
    "filtro1=datos['IndicatorName'].str.contains(indicador1)\n",
    "filtro2=datos['CountryCode'].str.contains(pais)\n",
    "\n",
    "datosInd1=datos[filtro1 & filtro2]\n",
    "\n",
    "\n",
    "filtro1=datos['IndicatorName'].str.contains(indicador2)\n",
    "filtro2=datos['CountryCode'].str.contains(pais)\n",
    "\n",
    "datosInd2=datos[filtro1 & filtro2]\n",
    "\n",
    "X=datosInd1['Value'].values\n",
    "Y=datosInd2['Value'].values\n",
    "\n",
    "print (len(X),len(Y))\n",
    "\n",
    "limite=min(len(X),len(Y))\n",
    "\n",
    "plt.xlabel(indicador1)\n",
    "plt.ylabel(indicador2)\n",
    "plt.title(indicador1 + \" vs \" + indicador2 + \" in \" +pais)\n",
    "\n",
    "plt.scatter(X[:limite],Y[:limite])\n",
    "plt.show()\n",
    "\n"
   ]
  },
  {
   "cell_type": "code",
   "execution_count": 17,
   "metadata": {},
   "outputs": [
    {
     "ename": "AttributeError",
     "evalue": "'numpy.ndarray' object has no attribute 'values'",
     "output_type": "error",
     "traceback": [
      "\u001b[1;31m---------------------------------------------------------------------------\u001b[0m",
      "\u001b[1;31mAttributeError\u001b[0m                            Traceback (most recent call last)",
      "\u001b[1;32m<ipython-input-17-602928000fbf>\u001b[0m in \u001b[0;36m<module>\u001b[1;34m()\u001b[0m\n\u001b[1;32m----> 1\u001b[1;33m \u001b[0mprint\u001b[0m\u001b[1;33m(\u001b[0m\u001b[0mtype\u001b[0m\u001b[1;33m(\u001b[0m\u001b[0mX\u001b[0m\u001b[1;33m.\u001b[0m\u001b[0mvalues\u001b[0m\u001b[1;33m)\u001b[0m\u001b[1;33m)\u001b[0m\u001b[1;33m\u001b[0m\u001b[0m\n\u001b[0m",
      "\u001b[1;31mAttributeError\u001b[0m: 'numpy.ndarray' object has no attribute 'values'"
     ]
    }
   ],
   "source": [
    "print(type(X.values))"
   ]
  },
  {
   "cell_type": "code",
   "execution_count": null,
   "metadata": {
    "collapsed": true
   },
   "outputs": [],
   "source": [
    "np.corrcoef(X[:limite],Y[:limite])"
   ]
  },
  {
   "cell_type": "markdown",
   "metadata": {},
   "source": [
    "# Gráfico de dispersión (ScatterPlot) #2"
   ]
  },
  {
   "cell_type": "code",
   "execution_count": 18,
   "metadata": {
    "collapsed": true
   },
   "outputs": [],
   "source": [
    "from sklearn import datasets"
   ]
  },
  {
   "cell_type": "code",
   "execution_count": 19,
   "metadata": {
    "collapsed": true
   },
   "outputs": [],
   "source": [
    "iris = datasets.load_iris()"
   ]
  },
  {
   "cell_type": "markdown",
   "metadata": {},
   "source": [
    "<table style=\"width:100%\">\n",
    "  <tr>\n",
    "    <th>Iris Setosa</th>\n",
    "    <th>Iris Versicolor</th> \n",
    "    <th>Iris Virginica</th>\n",
    "  </tr>\n",
    "  <tr>\n",
    "    <td>\n",
    "        <img src=https://upload.wikimedia.org/wikipedia/commons/thumb/5/56/Kosaciec_szczecinkowaty_Iris_setosa.jpg/330px-Kosaciec_szczecinkowaty_Iris_setosa.jpg>\n",
    "    </td>\n",
    "    <td>\n",
    "        <img src=https://encrypted-tbn0.gstatic.com/images?q=tbn:ANd9GcSlLeJGCh7c91g75H9Y9Bkl-2JKPKFmwkHpdxGyqSjfZCdqPXdv>\n",
    "    </td>\n",
    "    <td>\n",
    "        <img src=https://upload.wikimedia.org/wikipedia/commons/thumb/9/9f/Iris_virginica.jpg/330px-Iris_virginica.jpg >\n",
    "    </td>\n",
    "  </tr>\n",
    "</table>\n",
    "\n",
    "\n",
    "<a href=https://en.wikipedia.org/wiki/Iris_flower_data_set> Link a Wikipedia </a>"
   ]
  },
  {
   "cell_type": "code",
   "execution_count": 20,
   "metadata": {},
   "outputs": [
    {
     "name": "stdout",
     "output_type": "stream",
     "text": [
      "[[ 5.1  3.5  1.4  0.2]\n",
      " [ 4.9  3.   1.4  0.2]\n",
      " [ 4.7  3.2  1.3  0.2]\n",
      " [ 4.6  3.1  1.5  0.2]\n",
      " [ 5.   3.6  1.4  0.2]\n",
      " [ 5.4  3.9  1.7  0.4]\n",
      " [ 4.6  3.4  1.4  0.3]\n",
      " [ 5.   3.4  1.5  0.2]\n",
      " [ 4.4  2.9  1.4  0.2]\n",
      " [ 4.9  3.1  1.5  0.1]] [0 0 0 0 0 0 0 0 0 0]\n"
     ]
    }
   ],
   "source": [
    "print(iris.data[:10,:], iris.target[:10])"
   ]
  },
  {
   "cell_type": "code",
   "execution_count": 133,
   "metadata": {},
   "outputs": [
    {
     "data": {
      "text/plain": [
       "numpy.ndarray"
      ]
     },
     "execution_count": 133,
     "metadata": {},
     "output_type": "execute_result"
    }
   ],
   "source": [
    "X=iris.data[:,1]\n",
    "type(X)"
   ]
  },
  {
   "cell_type": "code",
   "execution_count": 131,
   "metadata": {
    "collapsed": true
   },
   "outputs": [],
   "source": [
    "Y=iris.data[:,3]"
   ]
  },
  {
   "cell_type": "code",
   "execution_count": 134,
   "metadata": {},
   "outputs": [
    {
     "data": {
      "image/png": "[encoded data removed]",
      "text/plain": [
       "<matplotlib.figure.Figure at 0x297afbb3ba8>"
      ]
     },
     "metadata": {},
     "output_type": "display_data"
    }
   ],
   "source": [
    "colors=iris.target\n",
    "plt.scatter(X,Y,c=colors)\n",
    "plt.grid(True)\n",
    "plt.show()"
   ]
  },
  {
   "cell_type": "code",
   "execution_count": null,
   "metadata": {
    "collapsed": true
   },
   "outputs": [],
   "source": []
  }
 ],
 "metadata": {
  "kernelspec": {
   "display_name": "Python 3",
   "language": "python",
   "name": "python3"
  },
  "language_info": {
   "codemirror_mode": {
    "name": "ipython",
    "version": 3
   },
   "file_extension": ".py",
   "mimetype": "text/x-python",
   "name": "python",
   "nbconvert_exporter": "python",
   "pygments_lexer": "ipython3",
   "version": "3.7.6"
  }
 },
 "nbformat": 4,
 "nbformat_minor": 2
}
