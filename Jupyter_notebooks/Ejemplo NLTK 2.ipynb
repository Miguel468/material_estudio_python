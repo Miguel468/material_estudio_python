{
 "cells": [
  {
   "cell_type": "code",
   "execution_count": 21,
   "metadata": {
    "collapsed": true
   },
   "outputs": [],
   "source": [
    "import nltk"
   ]
  },
  {
   "cell_type": "code",
   "execution_count": 22,
   "metadata": {},
   "outputs": [
    {
     "name": "stdout",
     "output_type": "stream",
     "text": [
      "showing info https://raw.githubusercontent.com/nltk/nltk_data/gh-pages/index.xml\n"
     ]
    },
    {
     "data": {
      "text/plain": [
       "True"
      ]
     },
     "execution_count": 22,
     "metadata": {},
     "output_type": "execute_result"
    }
   ],
   "source": [
    "#Abre una ventana en el navegador\n",
    "nltk.download()"
   ]
  },
  {
   "cell_type": "code",
   "execution_count": 23,
   "metadata": {
    "collapsed": true
   },
   "outputs": [],
   "source": [
    "from nltk.corpus import movie_reviews"
   ]
  },
  {
   "cell_type": "code",
   "execution_count": 24,
   "metadata": {
    "collapsed": true
   },
   "outputs": [],
   "source": [
    "from nltk.corpus import cess_esp"
   ]
  },
  {
   "cell_type": "code",
   "execution_count": 25,
   "metadata": {},
   "outputs": [
    {
     "data": {
      "text/plain": [
       "['El', 'grupo', 'estatal', 'Electricité_de_France', ...]"
      ]
     },
     "execution_count": 25,
     "metadata": {},
     "output_type": "execute_result"
    }
   ],
   "source": [
    "cess_esp.words()[:500]"
   ]
  },
  {
   "cell_type": "code",
   "execution_count": 26,
   "metadata": {},
   "outputs": [
    {
     "data": {
      "text/plain": [
       "['neg/cv000_29416.txt',\n",
       " 'neg/cv001_19502.txt',\n",
       " 'neg/cv002_17424.txt',\n",
       " 'neg/cv003_12683.txt',\n",
       " 'neg/cv004_12641.txt',\n",
       " 'neg/cv005_29357.txt',\n",
       " 'neg/cv006_17022.txt',\n",
       " 'neg/cv007_4992.txt',\n",
       " 'neg/cv008_29326.txt',\n",
       " 'neg/cv009_29417.txt',\n",
       " 'neg/cv010_29063.txt',\n",
       " 'neg/cv011_13044.txt',\n",
       " 'neg/cv012_29411.txt',\n",
       " 'neg/cv013_10494.txt',\n",
       " 'neg/cv014_15600.txt',\n",
       " 'neg/cv015_29356.txt',\n",
       " 'neg/cv016_4348.txt',\n",
       " 'neg/cv017_23487.txt',\n",
       " 'neg/cv018_21672.txt',\n",
       " 'neg/cv019_16117.txt',\n",
       " 'neg/cv020_9234.txt',\n",
       " 'neg/cv021_17313.txt',\n",
       " 'neg/cv022_14227.txt',\n",
       " 'neg/cv023_13847.txt',\n",
       " 'neg/cv024_7033.txt',\n",
       " 'neg/cv025_29825.txt',\n",
       " 'neg/cv026_29229.txt',\n",
       " 'neg/cv027_26270.txt',\n",
       " 'neg/cv028_26964.txt',\n",
       " 'neg/cv029_19943.txt',\n",
       " 'neg/cv030_22893.txt',\n",
       " 'neg/cv031_19540.txt',\n",
       " 'neg/cv032_23718.txt',\n",
       " 'neg/cv033_25680.txt',\n",
       " 'neg/cv034_29446.txt',\n",
       " 'neg/cv035_3343.txt',\n",
       " 'neg/cv036_18385.txt',\n",
       " 'neg/cv037_19798.txt',\n",
       " 'neg/cv038_9781.txt',\n",
       " 'neg/cv039_5963.txt',\n",
       " 'neg/cv040_8829.txt',\n",
       " 'neg/cv041_22364.txt',\n",
       " 'neg/cv042_11927.txt',\n",
       " 'neg/cv043_16808.txt',\n",
       " 'neg/cv044_18429.txt',\n",
       " 'neg/cv045_25077.txt',\n",
       " 'neg/cv046_10613.txt',\n",
       " 'neg/cv047_18725.txt',\n",
       " 'neg/cv048_18380.txt',\n",
       " 'neg/cv049_21917.txt',\n",
       " 'neg/cv050_12128.txt',\n",
       " 'neg/cv051_10751.txt',\n",
       " 'neg/cv052_29318.txt',\n",
       " 'neg/cv053_23117.txt',\n",
       " 'neg/cv054_4101.txt',\n",
       " 'neg/cv055_8926.txt',\n",
       " 'neg/cv056_14663.txt',\n",
       " 'neg/cv057_7962.txt',\n",
       " 'neg/cv058_8469.txt',\n",
       " 'neg/cv059_28723.txt',\n",
       " 'neg/cv060_11754.txt',\n",
       " 'neg/cv061_9321.txt',\n",
       " 'neg/cv062_24556.txt',\n",
       " 'neg/cv063_28852.txt',\n",
       " 'neg/cv064_25842.txt',\n",
       " 'neg/cv065_16909.txt',\n",
       " 'neg/cv066_11668.txt',\n",
       " 'neg/cv067_21192.txt',\n",
       " 'neg/cv068_14810.txt',\n",
       " 'neg/cv069_11613.txt',\n",
       " 'neg/cv070_13249.txt',\n",
       " 'neg/cv071_12969.txt',\n",
       " 'neg/cv072_5928.txt',\n",
       " 'neg/cv073_23039.txt',\n",
       " 'neg/cv074_7188.txt',\n",
       " 'neg/cv075_6250.txt',\n",
       " 'neg/cv076_26009.txt',\n",
       " 'neg/cv077_23172.txt',\n",
       " 'neg/cv078_16506.txt',\n",
       " 'neg/cv079_12766.txt',\n",
       " 'neg/cv080_14899.txt',\n",
       " 'neg/cv081_18241.txt',\n",
       " 'neg/cv082_11979.txt',\n",
       " 'neg/cv083_25491.txt',\n",
       " 'neg/cv084_15183.txt',\n",
       " 'neg/cv085_15286.txt',\n",
       " 'neg/cv086_19488.txt',\n",
       " 'neg/cv087_2145.txt',\n",
       " 'neg/cv088_25274.txt',\n",
       " 'neg/cv089_12222.txt',\n",
       " 'neg/cv090_0049.txt',\n",
       " 'neg/cv091_7899.txt',\n",
       " 'neg/cv092_27987.txt',\n",
       " 'neg/cv093_15606.txt',\n",
       " 'neg/cv094_27868.txt',\n",
       " 'neg/cv095_28730.txt',\n",
       " 'neg/cv096_12262.txt',\n",
       " 'neg/cv097_26081.txt',\n",
       " 'neg/cv098_17021.txt',\n",
       " 'neg/cv099_11189.txt',\n",
       " 'neg/cv100_12406.txt',\n",
       " 'neg/cv101_10537.txt',\n",
       " 'neg/cv102_8306.txt',\n",
       " 'neg/cv103_11943.txt',\n",
       " 'neg/cv104_19176.txt',\n",
       " 'neg/cv105_19135.txt',\n",
       " 'neg/cv106_18379.txt',\n",
       " 'neg/cv107_25639.txt',\n",
       " 'neg/cv108_17064.txt',\n",
       " 'neg/cv109_22599.txt',\n",
       " 'neg/cv110_27832.txt',\n",
       " 'neg/cv111_12253.txt',\n",
       " 'neg/cv112_12178.txt',\n",
       " 'neg/cv113_24354.txt',\n",
       " 'neg/cv114_19501.txt',\n",
       " 'neg/cv115_26443.txt',\n",
       " 'neg/cv116_28734.txt',\n",
       " 'neg/cv117_25625.txt',\n",
       " 'neg/cv118_28837.txt',\n",
       " 'neg/cv119_9909.txt',\n",
       " 'neg/cv120_3793.txt',\n",
       " 'neg/cv121_18621.txt',\n",
       " 'neg/cv122_7891.txt',\n",
       " 'neg/cv123_12165.txt',\n",
       " 'neg/cv124_3903.txt',\n",
       " 'neg/cv125_9636.txt',\n",
       " 'neg/cv126_28821.txt',\n",
       " 'neg/cv127_16451.txt',\n",
       " 'neg/cv128_29444.txt',\n",
       " 'neg/cv129_18373.txt',\n",
       " 'neg/cv130_18521.txt',\n",
       " 'neg/cv131_11568.txt',\n",
       " 'neg/cv132_5423.txt',\n",
       " 'neg/cv133_18065.txt',\n",
       " 'neg/cv134_23300.txt',\n",
       " 'neg/cv135_12506.txt',\n",
       " 'neg/cv136_12384.txt',\n",
       " 'neg/cv137_17020.txt',\n",
       " 'neg/cv138_13903.txt',\n",
       " 'neg/cv139_14236.txt',\n",
       " 'neg/cv140_7963.txt',\n",
       " 'neg/cv141_17179.txt',\n",
       " 'neg/cv142_23657.txt',\n",
       " 'neg/cv143_21158.txt',\n",
       " 'neg/cv144_5010.txt',\n",
       " 'neg/cv145_12239.txt',\n",
       " 'neg/cv146_19587.txt',\n",
       " 'neg/cv147_22625.txt',\n",
       " 'neg/cv148_18084.txt',\n",
       " 'neg/cv149_17084.txt',\n",
       " 'neg/cv150_14279.txt',\n",
       " 'neg/cv151_17231.txt',\n",
       " 'neg/cv152_9052.txt',\n",
       " 'neg/cv153_11607.txt',\n",
       " 'neg/cv154_9562.txt',\n",
       " 'neg/cv155_7845.txt',\n",
       " 'neg/cv156_11119.txt',\n",
       " 'neg/cv157_29302.txt',\n",
       " 'neg/cv158_10914.txt',\n",
       " 'neg/cv159_29374.txt',\n",
       " 'neg/cv160_10848.txt',\n",
       " 'neg/cv161_12224.txt',\n",
       " 'neg/cv162_10977.txt',\n",
       " 'neg/cv163_10110.txt',\n",
       " 'neg/cv164_23451.txt',\n",
       " 'neg/cv165_2389.txt',\n",
       " 'neg/cv166_11959.txt',\n",
       " 'neg/cv167_18094.txt',\n",
       " 'neg/cv168_7435.txt',\n",
       " 'neg/cv169_24973.txt',\n",
       " 'neg/cv170_29808.txt',\n",
       " 'neg/cv171_15164.txt',\n",
       " 'neg/cv172_12037.txt',\n",
       " 'neg/cv173_4295.txt',\n",
       " 'neg/cv174_9735.txt',\n",
       " 'neg/cv175_7375.txt',\n",
       " 'neg/cv176_14196.txt',\n",
       " 'neg/cv177_10904.txt',\n",
       " 'neg/cv178_14380.txt',\n",
       " 'neg/cv179_9533.txt',\n",
       " 'neg/cv180_17823.txt',\n",
       " 'neg/cv181_16083.txt',\n",
       " 'neg/cv182_7791.txt',\n",
       " 'neg/cv183_19826.txt',\n",
       " 'neg/cv184_26935.txt',\n",
       " 'neg/cv185_28372.txt',\n",
       " 'neg/cv186_2396.txt',\n",
       " 'neg/cv187_14112.txt',\n",
       " 'neg/cv188_20687.txt',\n",
       " 'neg/cv189_24248.txt',\n",
       " 'neg/cv190_27176.txt',\n",
       " 'neg/cv191_29539.txt',\n",
       " 'neg/cv192_16079.txt',\n",
       " 'neg/cv193_5393.txt',\n",
       " 'neg/cv194_12855.txt',\n",
       " 'neg/cv195_16146.txt',\n",
       " 'neg/cv196_28898.txt',\n",
       " 'neg/cv197_29271.txt',\n",
       " 'neg/cv198_19313.txt',\n",
       " 'neg/cv199_9721.txt',\n",
       " 'neg/cv200_29006.txt',\n",
       " 'neg/cv201_7421.txt',\n",
       " 'neg/cv202_11382.txt',\n",
       " 'neg/cv203_19052.txt',\n",
       " 'neg/cv204_8930.txt',\n",
       " 'neg/cv205_9676.txt',\n",
       " 'neg/cv206_15893.txt',\n",
       " 'neg/cv207_29141.txt',\n",
       " 'neg/cv208_9475.txt',\n",
       " 'neg/cv209_28973.txt',\n",
       " 'neg/cv210_9557.txt',\n",
       " 'neg/cv211_9955.txt',\n",
       " 'neg/cv212_10054.txt',\n",
       " 'neg/cv213_20300.txt',\n",
       " 'neg/cv214_13285.txt',\n",
       " 'neg/cv215_23246.txt',\n",
       " 'neg/cv216_20165.txt',\n",
       " 'neg/cv217_28707.txt',\n",
       " 'neg/cv218_25651.txt',\n",
       " 'neg/cv219_19874.txt',\n",
       " 'neg/cv220_28906.txt',\n",
       " 'neg/cv221_27081.txt',\n",
       " 'neg/cv222_18720.txt',\n",
       " 'neg/cv223_28923.txt',\n",
       " 'neg/cv224_18875.txt',\n",
       " 'neg/cv225_29083.txt',\n",
       " 'neg/cv226_26692.txt',\n",
       " 'neg/cv227_25406.txt',\n",
       " 'neg/cv228_5644.txt',\n",
       " 'neg/cv229_15200.txt',\n",
       " 'neg/cv230_7913.txt',\n",
       " 'neg/cv231_11028.txt',\n",
       " 'neg/cv232_16768.txt',\n",
       " 'neg/cv233_17614.txt',\n",
       " 'neg/cv234_22123.txt',\n",
       " 'neg/cv235_10704.txt',\n",
       " 'neg/cv236_12427.txt',\n",
       " 'neg/cv237_20635.txt',\n",
       " 'neg/cv238_14285.txt',\n",
       " 'neg/cv239_29828.txt',\n",
       " 'neg/cv240_15948.txt',\n",
       " 'neg/cv241_24602.txt',\n",
       " 'neg/cv242_11354.txt',\n",
       " 'neg/cv243_22164.txt',\n",
       " 'neg/cv244_22935.txt',\n",
       " 'neg/cv245_8938.txt',\n",
       " 'neg/cv246_28668.txt',\n",
       " 'neg/cv247_14668.txt',\n",
       " 'neg/cv248_15672.txt',\n",
       " 'neg/cv249_12674.txt',\n",
       " 'neg/cv250_26462.txt',\n",
       " 'neg/cv251_23901.txt',\n",
       " 'neg/cv252_24974.txt',\n",
       " 'neg/cv253_10190.txt',\n",
       " 'neg/cv254_5870.txt',\n",
       " 'neg/cv255_15267.txt',\n",
       " 'neg/cv256_16529.txt',\n",
       " 'neg/cv257_11856.txt',\n",
       " 'neg/cv258_5627.txt',\n",
       " 'neg/cv259_11827.txt',\n",
       " 'neg/cv260_15652.txt',\n",
       " 'neg/cv261_11855.txt',\n",
       " 'neg/cv262_13812.txt',\n",
       " 'neg/cv263_20693.txt',\n",
       " 'neg/cv264_14108.txt',\n",
       " 'neg/cv265_11625.txt',\n",
       " 'neg/cv266_26644.txt',\n",
       " 'neg/cv267_16618.txt',\n",
       " 'neg/cv268_20288.txt',\n",
       " 'neg/cv269_23018.txt',\n",
       " 'neg/cv270_5873.txt',\n",
       " 'neg/cv271_15364.txt',\n",
       " 'neg/cv272_20313.txt',\n",
       " 'neg/cv273_28961.txt',\n",
       " 'neg/cv274_26379.txt',\n",
       " 'neg/cv275_28725.txt',\n",
       " 'neg/cv276_17126.txt',\n",
       " 'neg/cv277_20467.txt',\n",
       " 'neg/cv278_14533.txt',\n",
       " 'neg/cv279_19452.txt',\n",
       " 'neg/cv280_8651.txt',\n",
       " 'neg/cv281_24711.txt',\n",
       " 'neg/cv282_6833.txt',\n",
       " 'neg/cv283_11963.txt',\n",
       " 'neg/cv284_20530.txt',\n",
       " 'neg/cv285_18186.txt',\n",
       " 'neg/cv286_26156.txt',\n",
       " 'neg/cv287_17410.txt',\n",
       " 'neg/cv288_20212.txt',\n",
       " 'neg/cv289_6239.txt',\n",
       " 'neg/cv290_11981.txt',\n",
       " 'neg/cv291_26844.txt',\n",
       " 'neg/cv292_7804.txt',\n",
       " 'neg/cv293_29731.txt',\n",
       " 'neg/cv294_12695.txt',\n",
       " 'neg/cv295_17060.txt',\n",
       " 'neg/cv296_13146.txt',\n",
       " 'neg/cv297_10104.txt',\n",
       " 'neg/cv298_24487.txt',\n",
       " 'neg/cv299_17950.txt',\n",
       " 'neg/cv300_23302.txt',\n",
       " 'neg/cv301_13010.txt',\n",
       " 'neg/cv302_26481.txt',\n",
       " 'neg/cv303_27366.txt',\n",
       " 'neg/cv304_28489.txt',\n",
       " 'neg/cv305_9937.txt',\n",
       " 'neg/cv306_10859.txt',\n",
       " 'neg/cv307_26382.txt',\n",
       " 'neg/cv308_5079.txt',\n",
       " 'neg/cv309_23737.txt',\n",
       " 'neg/cv310_14568.txt',\n",
       " 'neg/cv311_17708.txt',\n",
       " 'neg/cv312_29308.txt',\n",
       " 'neg/cv313_19337.txt',\n",
       " 'neg/cv314_16095.txt',\n",
       " 'neg/cv315_12638.txt',\n",
       " 'neg/cv316_5972.txt',\n",
       " 'neg/cv317_25111.txt',\n",
       " 'neg/cv318_11146.txt',\n",
       " 'neg/cv319_16459.txt',\n",
       " 'neg/cv320_9693.txt',\n",
       " 'neg/cv321_14191.txt',\n",
       " 'neg/cv322_21820.txt',\n",
       " 'neg/cv323_29633.txt',\n",
       " 'neg/cv324_7502.txt',\n",
       " 'neg/cv325_18330.txt',\n",
       " 'neg/cv326_14777.txt',\n",
       " 'neg/cv327_21743.txt',\n",
       " 'neg/cv328_10908.txt',\n",
       " 'neg/cv329_29293.txt',\n",
       " 'neg/cv330_29675.txt',\n",
       " 'neg/cv331_8656.txt',\n",
       " 'neg/cv332_17997.txt',\n",
       " 'neg/cv333_9443.txt',\n",
       " 'neg/cv334_0074.txt',\n",
       " 'neg/cv335_16299.txt',\n",
       " 'neg/cv336_10363.txt',\n",
       " 'neg/cv337_29061.txt',\n",
       " 'neg/cv338_9183.txt',\n",
       " 'neg/cv339_22452.txt',\n",
       " 'neg/cv340_14776.txt',\n",
       " 'neg/cv341_25667.txt',\n",
       " 'neg/cv342_20917.txt',\n",
       " 'neg/cv343_10906.txt',\n",
       " 'neg/cv344_5376.txt',\n",
       " 'neg/cv345_9966.txt',\n",
       " 'neg/cv346_19198.txt',\n",
       " 'neg/cv347_14722.txt',\n",
       " 'neg/cv348_19207.txt',\n",
       " 'neg/cv349_15032.txt',\n",
       " 'neg/cv350_22139.txt',\n",
       " 'neg/cv351_17029.txt',\n",
       " 'neg/cv352_5414.txt',\n",
       " 'neg/cv353_19197.txt',\n",
       " 'neg/cv354_8573.txt',\n",
       " 'neg/cv355_18174.txt',\n",
       " 'neg/cv356_26170.txt',\n",
       " 'neg/cv357_14710.txt',\n",
       " 'neg/cv358_11557.txt',\n",
       " 'neg/cv359_6751.txt',\n",
       " 'neg/cv360_8927.txt',\n",
       " 'neg/cv361_28738.txt',\n",
       " 'neg/cv362_16985.txt',\n",
       " 'neg/cv363_29273.txt',\n",
       " 'neg/cv364_14254.txt',\n",
       " 'neg/cv365_12442.txt',\n",
       " 'neg/cv366_10709.txt',\n",
       " 'neg/cv367_24065.txt',\n",
       " 'neg/cv368_11090.txt',\n",
       " 'neg/cv369_14245.txt',\n",
       " 'neg/cv370_5338.txt',\n",
       " 'neg/cv371_8197.txt',\n",
       " 'neg/cv372_6654.txt',\n",
       " 'neg/cv373_21872.txt',\n",
       " 'neg/cv374_26455.txt',\n",
       " 'neg/cv375_9932.txt',\n",
       " 'neg/cv376_20883.txt',\n",
       " 'neg/cv377_8440.txt',\n",
       " 'neg/cv378_21982.txt',\n",
       " 'neg/cv379_23167.txt',\n",
       " 'neg/cv380_8164.txt',\n",
       " 'neg/cv381_21673.txt',\n",
       " 'neg/cv382_8393.txt',\n",
       " 'neg/cv383_14662.txt',\n",
       " 'neg/cv384_18536.txt',\n",
       " 'neg/cv385_29621.txt',\n",
       " 'neg/cv386_10229.txt',\n",
       " 'neg/cv387_12391.txt',\n",
       " 'neg/cv388_12810.txt',\n",
       " 'neg/cv389_9611.txt',\n",
       " 'neg/cv390_12187.txt',\n",
       " 'neg/cv391_11615.txt',\n",
       " 'neg/cv392_12238.txt',\n",
       " 'neg/cv393_29234.txt',\n",
       " 'neg/cv394_5311.txt',\n",
       " 'neg/cv395_11761.txt',\n",
       " 'neg/cv396_19127.txt',\n",
       " 'neg/cv397_28890.txt',\n",
       " 'neg/cv398_17047.txt',\n",
       " 'neg/cv399_28593.txt',\n",
       " 'neg/cv400_20631.txt',\n",
       " 'neg/cv401_13758.txt',\n",
       " 'neg/cv402_16097.txt',\n",
       " 'neg/cv403_6721.txt',\n",
       " 'neg/cv404_21805.txt',\n",
       " 'neg/cv405_21868.txt',\n",
       " 'neg/cv406_22199.txt',\n",
       " 'neg/cv407_23928.txt',\n",
       " 'neg/cv408_5367.txt',\n",
       " 'neg/cv409_29625.txt',\n",
       " 'neg/cv410_25624.txt',\n",
       " 'neg/cv411_16799.txt',\n",
       " 'neg/cv412_25254.txt',\n",
       " 'neg/cv413_7893.txt',\n",
       " 'neg/cv414_11161.txt',\n",
       " 'neg/cv415_23674.txt',\n",
       " 'neg/cv416_12048.txt',\n",
       " 'neg/cv417_14653.txt',\n",
       " 'neg/cv418_16562.txt',\n",
       " 'neg/cv419_14799.txt',\n",
       " 'neg/cv420_28631.txt',\n",
       " 'neg/cv421_9752.txt',\n",
       " 'neg/cv422_9632.txt',\n",
       " 'neg/cv423_12089.txt',\n",
       " 'neg/cv424_9268.txt',\n",
       " 'neg/cv425_8603.txt',\n",
       " 'neg/cv426_10976.txt',\n",
       " 'neg/cv427_11693.txt',\n",
       " 'neg/cv428_12202.txt',\n",
       " 'neg/cv429_7937.txt',\n",
       " 'neg/cv430_18662.txt',\n",
       " 'neg/cv431_7538.txt',\n",
       " 'neg/cv432_15873.txt',\n",
       " 'neg/cv433_10443.txt',\n",
       " 'neg/cv434_5641.txt',\n",
       " 'neg/cv435_24355.txt',\n",
       " 'neg/cv436_20564.txt',\n",
       " 'neg/cv437_24070.txt',\n",
       " 'neg/cv438_8500.txt',\n",
       " 'neg/cv439_17633.txt',\n",
       " 'neg/cv440_16891.txt',\n",
       " 'neg/cv441_15276.txt',\n",
       " 'neg/cv442_15499.txt',\n",
       " 'neg/cv443_22367.txt',\n",
       " 'neg/cv444_9975.txt',\n",
       " 'neg/cv445_26683.txt',\n",
       " 'neg/cv446_12209.txt',\n",
       " 'neg/cv447_27334.txt',\n",
       " 'neg/cv448_16409.txt',\n",
       " 'neg/cv449_9126.txt',\n",
       " 'neg/cv450_8319.txt',\n",
       " 'neg/cv451_11502.txt',\n",
       " 'neg/cv452_5179.txt',\n",
       " 'neg/cv453_10911.txt',\n",
       " 'neg/cv454_21961.txt',\n",
       " 'neg/cv455_28866.txt',\n",
       " 'neg/cv456_20370.txt',\n",
       " 'neg/cv457_19546.txt',\n",
       " 'neg/cv458_9000.txt',\n",
       " 'neg/cv459_21834.txt',\n",
       " 'neg/cv460_11723.txt',\n",
       " 'neg/cv461_21124.txt',\n",
       " 'neg/cv462_20788.txt',\n",
       " 'neg/cv463_10846.txt',\n",
       " 'neg/cv464_17076.txt',\n",
       " 'neg/cv465_23401.txt',\n",
       " 'neg/cv466_20092.txt',\n",
       " 'neg/cv467_26610.txt',\n",
       " 'neg/cv468_16844.txt',\n",
       " 'neg/cv469_21998.txt',\n",
       " 'neg/cv470_17444.txt',\n",
       " 'neg/cv471_18405.txt',\n",
       " 'neg/cv472_29140.txt',\n",
       " 'neg/cv473_7869.txt',\n",
       " 'neg/cv474_10682.txt',\n",
       " 'neg/cv475_22978.txt',\n",
       " 'neg/cv476_18402.txt',\n",
       " 'neg/cv477_23530.txt',\n",
       " 'neg/cv478_15921.txt',\n",
       " 'neg/cv479_5450.txt',\n",
       " 'neg/cv480_21195.txt',\n",
       " 'neg/cv481_7930.txt',\n",
       " 'neg/cv482_11233.txt',\n",
       " 'neg/cv483_18103.txt',\n",
       " 'neg/cv484_26169.txt',\n",
       " 'neg/cv485_26879.txt',\n",
       " 'neg/cv486_9788.txt',\n",
       " 'neg/cv487_11058.txt',\n",
       " 'neg/cv488_21453.txt',\n",
       " 'neg/cv489_19046.txt',\n",
       " 'neg/cv490_18986.txt',\n",
       " 'neg/cv491_12992.txt',\n",
       " 'neg/cv492_19370.txt',\n",
       " 'neg/cv493_14135.txt',\n",
       " 'neg/cv494_18689.txt',\n",
       " 'neg/cv495_16121.txt',\n",
       " 'neg/cv496_11185.txt',\n",
       " 'neg/cv497_27086.txt',\n",
       " 'neg/cv498_9288.txt',\n",
       " 'neg/cv499_11407.txt',\n",
       " 'neg/cv500_10722.txt',\n",
       " 'neg/cv501_12675.txt',\n",
       " 'neg/cv502_10970.txt',\n",
       " 'neg/cv503_11196.txt',\n",
       " 'neg/cv504_29120.txt',\n",
       " 'neg/cv505_12926.txt',\n",
       " 'neg/cv506_17521.txt',\n",
       " 'neg/cv507_9509.txt',\n",
       " 'neg/cv508_17742.txt',\n",
       " 'neg/cv509_17354.txt',\n",
       " 'neg/cv510_24758.txt',\n",
       " 'neg/cv511_10360.txt',\n",
       " 'neg/cv512_17618.txt',\n",
       " 'neg/cv513_7236.txt',\n",
       " 'neg/cv514_12173.txt',\n",
       " 'neg/cv515_18484.txt',\n",
       " 'neg/cv516_12117.txt',\n",
       " 'neg/cv517_20616.txt',\n",
       " 'neg/cv518_14798.txt',\n",
       " 'neg/cv519_16239.txt',\n",
       " 'neg/cv520_13297.txt',\n",
       " 'neg/cv521_1730.txt',\n",
       " 'neg/cv522_5418.txt',\n",
       " 'neg/cv523_18285.txt',\n",
       " 'neg/cv524_24885.txt',\n",
       " 'neg/cv525_17930.txt',\n",
       " 'neg/cv526_12868.txt',\n",
       " 'neg/cv527_10338.txt',\n",
       " 'neg/cv528_11669.txt',\n",
       " 'neg/cv529_10972.txt',\n",
       " 'neg/cv530_17949.txt',\n",
       " 'neg/cv531_26838.txt',\n",
       " 'neg/cv532_6495.txt',\n",
       " 'neg/cv533_9843.txt',\n",
       " 'neg/cv534_15683.txt',\n",
       " 'neg/cv535_21183.txt',\n",
       " 'neg/cv536_27221.txt',\n",
       " 'neg/cv537_13516.txt',\n",
       " 'neg/cv538_28485.txt',\n",
       " 'neg/cv539_21865.txt',\n",
       " 'neg/cv540_3092.txt',\n",
       " 'neg/cv541_28683.txt',\n",
       " 'neg/cv542_20359.txt',\n",
       " 'neg/cv543_5107.txt',\n",
       " 'neg/cv544_5301.txt',\n",
       " 'neg/cv545_12848.txt',\n",
       " 'neg/cv546_12723.txt',\n",
       " 'neg/cv547_18043.txt',\n",
       " 'neg/cv548_18944.txt',\n",
       " 'neg/cv549_22771.txt',\n",
       " 'neg/cv550_23226.txt',\n",
       " 'neg/cv551_11214.txt',\n",
       " 'neg/cv552_0150.txt',\n",
       " 'neg/cv553_26965.txt',\n",
       " 'neg/cv554_14678.txt',\n",
       " 'neg/cv555_25047.txt',\n",
       " 'neg/cv556_16563.txt',\n",
       " 'neg/cv557_12237.txt',\n",
       " 'neg/cv558_29376.txt',\n",
       " 'neg/cv559_0057.txt',\n",
       " 'neg/cv560_18608.txt',\n",
       " 'neg/cv561_9484.txt',\n",
       " 'neg/cv562_10847.txt',\n",
       " 'neg/cv563_18610.txt',\n",
       " 'neg/cv564_12011.txt',\n",
       " 'neg/cv565_29403.txt',\n",
       " 'neg/cv566_8967.txt',\n",
       " 'neg/cv567_29420.txt',\n",
       " 'neg/cv568_17065.txt',\n",
       " 'neg/cv569_26750.txt',\n",
       " 'neg/cv570_28960.txt',\n",
       " 'neg/cv571_29292.txt',\n",
       " 'neg/cv572_20053.txt',\n",
       " 'neg/cv573_29384.txt',\n",
       " 'neg/cv574_23191.txt',\n",
       " 'neg/cv575_22598.txt',\n",
       " 'neg/cv576_15688.txt',\n",
       " 'neg/cv577_28220.txt',\n",
       " 'neg/cv578_16825.txt',\n",
       " 'neg/cv579_12542.txt',\n",
       " 'neg/cv580_15681.txt',\n",
       " 'neg/cv581_20790.txt',\n",
       " 'neg/cv582_6678.txt',\n",
       " 'neg/cv583_29465.txt',\n",
       " 'neg/cv584_29549.txt',\n",
       " 'neg/cv585_23576.txt',\n",
       " 'neg/cv586_8048.txt',\n",
       " 'neg/cv587_20532.txt',\n",
       " 'neg/cv588_14467.txt',\n",
       " 'neg/cv589_12853.txt',\n",
       " 'neg/cv590_20712.txt',\n",
       " 'neg/cv591_24887.txt',\n",
       " 'neg/cv592_23391.txt',\n",
       " 'neg/cv593_11931.txt',\n",
       " 'neg/cv594_11945.txt',\n",
       " 'neg/cv595_26420.txt',\n",
       " 'neg/cv596_4367.txt',\n",
       " 'neg/cv597_26744.txt',\n",
       " 'neg/cv598_18184.txt',\n",
       " 'neg/cv599_22197.txt',\n",
       " 'neg/cv600_25043.txt',\n",
       " 'neg/cv601_24759.txt',\n",
       " 'neg/cv602_8830.txt',\n",
       " 'neg/cv603_18885.txt',\n",
       " 'neg/cv604_23339.txt',\n",
       " 'neg/cv605_12730.txt',\n",
       " 'neg/cv606_17672.txt',\n",
       " 'neg/cv607_8235.txt',\n",
       " 'neg/cv608_24647.txt',\n",
       " 'neg/cv609_25038.txt',\n",
       " 'neg/cv610_24153.txt',\n",
       " 'neg/cv611_2253.txt',\n",
       " 'neg/cv612_5396.txt',\n",
       " 'neg/cv613_23104.txt',\n",
       " 'neg/cv614_11320.txt',\n",
       " 'neg/cv615_15734.txt',\n",
       " 'neg/cv616_29187.txt',\n",
       " 'neg/cv617_9561.txt',\n",
       " 'neg/cv618_9469.txt',\n",
       " 'neg/cv619_13677.txt',\n",
       " 'neg/cv620_2556.txt',\n",
       " 'neg/cv621_15984.txt',\n",
       " 'neg/cv622_8583.txt',\n",
       " 'neg/cv623_16988.txt',\n",
       " 'neg/cv624_11601.txt',\n",
       " 'neg/cv625_13518.txt',\n",
       " 'neg/cv626_7907.txt',\n",
       " 'neg/cv627_12603.txt',\n",
       " 'neg/cv628_20758.txt',\n",
       " 'neg/cv629_16604.txt',\n",
       " 'neg/cv630_10152.txt',\n",
       " 'neg/cv631_4782.txt',\n",
       " 'neg/cv632_9704.txt',\n",
       " 'neg/cv633_29730.txt',\n",
       " 'neg/cv634_11989.txt',\n",
       " 'neg/cv635_0984.txt',\n",
       " 'neg/cv636_16954.txt',\n",
       " 'neg/cv637_13682.txt',\n",
       " 'neg/cv638_29394.txt',\n",
       " 'neg/cv639_10797.txt',\n",
       " 'neg/cv640_5380.txt',\n",
       " 'neg/cv641_13412.txt',\n",
       " 'neg/cv642_29788.txt',\n",
       " 'neg/cv643_29282.txt',\n",
       " 'neg/cv644_18551.txt',\n",
       " 'neg/cv645_17078.txt',\n",
       " 'neg/cv646_16817.txt',\n",
       " 'neg/cv647_15275.txt',\n",
       " 'neg/cv648_17277.txt',\n",
       " 'neg/cv649_13947.txt',\n",
       " 'neg/cv650_15974.txt',\n",
       " 'neg/cv651_11120.txt',\n",
       " 'neg/cv652_15653.txt',\n",
       " 'neg/cv653_2107.txt',\n",
       " 'neg/cv654_19345.txt',\n",
       " 'neg/cv655_12055.txt',\n",
       " 'neg/cv656_25395.txt',\n",
       " 'neg/cv657_25835.txt',\n",
       " 'neg/cv658_11186.txt',\n",
       " 'neg/cv659_21483.txt',\n",
       " 'neg/cv660_23140.txt',\n",
       " 'neg/cv661_25780.txt',\n",
       " 'neg/cv662_14791.txt',\n",
       " 'neg/cv663_14484.txt',\n",
       " 'neg/cv664_4264.txt',\n",
       " 'neg/cv665_29386.txt',\n",
       " 'neg/cv666_20301.txt',\n",
       " 'neg/cv667_19672.txt',\n",
       " 'neg/cv668_18848.txt',\n",
       " 'neg/cv669_24318.txt',\n",
       " 'neg/cv670_2666.txt',\n",
       " 'neg/cv671_5164.txt',\n",
       " 'neg/cv672_27988.txt',\n",
       " 'neg/cv673_25874.txt',\n",
       " 'neg/cv674_11593.txt',\n",
       " 'neg/cv675_22871.txt',\n",
       " 'neg/cv676_22202.txt',\n",
       " 'neg/cv677_18938.txt',\n",
       " 'neg/cv678_14887.txt',\n",
       " 'neg/cv679_28221.txt',\n",
       " 'neg/cv680_10533.txt',\n",
       " 'neg/cv681_9744.txt',\n",
       " 'neg/cv682_17947.txt',\n",
       " 'neg/cv683_13047.txt',\n",
       " 'neg/cv684_12727.txt',\n",
       " 'neg/cv685_5710.txt',\n",
       " 'neg/cv686_15553.txt',\n",
       " 'neg/cv687_22207.txt',\n",
       " 'neg/cv688_7884.txt',\n",
       " 'neg/cv689_13701.txt',\n",
       " 'neg/cv690_5425.txt',\n",
       " 'neg/cv691_5090.txt',\n",
       " 'neg/cv692_17026.txt',\n",
       " 'neg/cv693_19147.txt',\n",
       " 'neg/cv694_4526.txt',\n",
       " 'neg/cv695_22268.txt',\n",
       " 'neg/cv696_29619.txt',\n",
       " 'neg/cv697_12106.txt',\n",
       " 'neg/cv698_16930.txt',\n",
       " 'neg/cv699_7773.txt',\n",
       " 'neg/cv700_23163.txt',\n",
       " 'neg/cv701_15880.txt',\n",
       " 'neg/cv702_12371.txt',\n",
       " 'neg/cv703_17948.txt',\n",
       " 'neg/cv704_17622.txt',\n",
       " 'neg/cv705_11973.txt',\n",
       " 'neg/cv706_25883.txt',\n",
       " 'neg/cv707_11421.txt',\n",
       " 'neg/cv708_28539.txt',\n",
       " 'neg/cv709_11173.txt',\n",
       " 'neg/cv710_23745.txt',\n",
       " 'neg/cv711_12687.txt',\n",
       " 'neg/cv712_24217.txt',\n",
       " 'neg/cv713_29002.txt',\n",
       " 'neg/cv714_19704.txt',\n",
       " 'neg/cv715_19246.txt',\n",
       " 'neg/cv716_11153.txt',\n",
       " 'neg/cv717_17472.txt',\n",
       " 'neg/cv718_12227.txt',\n",
       " 'neg/cv719_5581.txt',\n",
       " 'neg/cv720_5383.txt',\n",
       " 'neg/cv721_28993.txt',\n",
       " 'neg/cv722_7571.txt',\n",
       " 'neg/cv723_9002.txt',\n",
       " 'neg/cv724_15265.txt',\n",
       " 'neg/cv725_10266.txt',\n",
       " 'neg/cv726_4365.txt',\n",
       " 'neg/cv727_5006.txt',\n",
       " 'neg/cv728_17931.txt',\n",
       " 'neg/cv729_10475.txt',\n",
       " 'neg/cv730_10729.txt',\n",
       " 'neg/cv731_3968.txt',\n",
       " 'neg/cv732_13092.txt',\n",
       " 'neg/cv733_9891.txt',\n",
       " 'neg/cv734_22821.txt',\n",
       " 'neg/cv735_20218.txt',\n",
       " 'neg/cv736_24947.txt',\n",
       " 'neg/cv737_28733.txt',\n",
       " 'neg/cv738_10287.txt',\n",
       " 'neg/cv739_12179.txt',\n",
       " 'neg/cv740_13643.txt',\n",
       " 'neg/cv741_12765.txt',\n",
       " 'neg/cv742_8279.txt',\n",
       " 'neg/cv743_17023.txt',\n",
       " 'neg/cv744_10091.txt',\n",
       " 'neg/cv745_14009.txt',\n",
       " 'neg/cv746_10471.txt',\n",
       " 'neg/cv747_18189.txt',\n",
       " 'neg/cv748_14044.txt',\n",
       " 'neg/cv749_18960.txt',\n",
       " 'neg/cv750_10606.txt',\n",
       " 'neg/cv751_17208.txt',\n",
       " 'neg/cv752_25330.txt',\n",
       " 'neg/cv753_11812.txt',\n",
       " 'neg/cv754_7709.txt',\n",
       " 'neg/cv755_24881.txt',\n",
       " 'neg/cv756_23676.txt',\n",
       " 'neg/cv757_10668.txt',\n",
       " 'neg/cv758_9740.txt',\n",
       " 'neg/cv759_15091.txt',\n",
       " 'neg/cv760_8977.txt',\n",
       " 'neg/cv761_13769.txt',\n",
       " 'neg/cv762_15604.txt',\n",
       " 'neg/cv763_16486.txt',\n",
       " 'neg/cv764_12701.txt',\n",
       " 'neg/cv765_20429.txt',\n",
       " 'neg/cv766_7983.txt',\n",
       " 'neg/cv767_15673.txt',\n",
       " 'neg/cv768_12709.txt',\n",
       " 'neg/cv769_8565.txt',\n",
       " 'neg/cv770_11061.txt',\n",
       " 'neg/cv771_28466.txt',\n",
       " 'neg/cv772_12971.txt',\n",
       " 'neg/cv773_20264.txt',\n",
       " 'neg/cv774_15488.txt',\n",
       " 'neg/cv775_17966.txt',\n",
       " 'neg/cv776_21934.txt',\n",
       " 'neg/cv777_10247.txt',\n",
       " 'neg/cv778_18629.txt',\n",
       " 'neg/cv779_18989.txt',\n",
       " 'neg/cv780_8467.txt',\n",
       " 'neg/cv781_5358.txt',\n",
       " 'neg/cv782_21078.txt',\n",
       " 'neg/cv783_14724.txt',\n",
       " 'neg/cv784_16077.txt',\n",
       " 'neg/cv785_23748.txt',\n",
       " 'neg/cv786_23608.txt',\n",
       " 'neg/cv787_15277.txt',\n",
       " 'neg/cv788_26409.txt',\n",
       " 'neg/cv789_12991.txt',\n",
       " 'neg/cv790_16202.txt',\n",
       " 'neg/cv791_17995.txt',\n",
       " 'neg/cv792_3257.txt',\n",
       " 'neg/cv793_15235.txt',\n",
       " 'neg/cv794_17353.txt',\n",
       " 'neg/cv795_10291.txt',\n",
       " 'neg/cv796_17243.txt',\n",
       " 'neg/cv797_7245.txt',\n",
       " 'neg/cv798_24779.txt',\n",
       " 'neg/cv799_19812.txt',\n",
       " 'neg/cv800_13494.txt',\n",
       " 'neg/cv801_26335.txt',\n",
       " 'neg/cv802_28381.txt',\n",
       " 'neg/cv803_8584.txt',\n",
       " 'neg/cv804_11763.txt',\n",
       " 'neg/cv805_21128.txt',\n",
       " 'neg/cv806_9405.txt',\n",
       " 'neg/cv807_23024.txt',\n",
       " 'neg/cv808_13773.txt',\n",
       " 'neg/cv809_5012.txt',\n",
       " 'neg/cv810_13660.txt',\n",
       " 'neg/cv811_22646.txt',\n",
       " 'neg/cv812_19051.txt',\n",
       " 'neg/cv813_6649.txt',\n",
       " 'neg/cv814_20316.txt',\n",
       " 'neg/cv815_23466.txt',\n",
       " 'neg/cv816_15257.txt',\n",
       " 'neg/cv817_3675.txt',\n",
       " 'neg/cv818_10698.txt',\n",
       " 'neg/cv819_9567.txt',\n",
       " 'neg/cv820_24157.txt',\n",
       " 'neg/cv821_29283.txt',\n",
       " 'neg/cv822_21545.txt',\n",
       " 'neg/cv823_17055.txt',\n",
       " 'neg/cv824_9335.txt',\n",
       " 'neg/cv825_5168.txt',\n",
       " 'neg/cv826_12761.txt',\n",
       " 'neg/cv827_19479.txt',\n",
       " 'neg/cv828_21392.txt',\n",
       " 'neg/cv829_21725.txt',\n",
       " 'neg/cv830_5778.txt',\n",
       " 'neg/cv831_16325.txt',\n",
       " 'neg/cv832_24713.txt',\n",
       " 'neg/cv833_11961.txt',\n",
       " 'neg/cv834_23192.txt',\n",
       " 'neg/cv835_20531.txt',\n",
       " 'neg/cv836_14311.txt',\n",
       " 'neg/cv837_27232.txt',\n",
       " 'neg/cv838_25886.txt',\n",
       " 'neg/cv839_22807.txt',\n",
       " 'neg/cv840_18033.txt',\n",
       " 'neg/cv841_3367.txt',\n",
       " 'neg/cv842_5702.txt',\n",
       " 'neg/cv843_17054.txt',\n",
       " 'neg/cv844_13890.txt',\n",
       " 'neg/cv845_15886.txt',\n",
       " 'neg/cv846_29359.txt',\n",
       " 'neg/cv847_20855.txt',\n",
       " 'neg/cv848_10061.txt',\n",
       " 'neg/cv849_17215.txt',\n",
       " 'neg/cv850_18185.txt',\n",
       " 'neg/cv851_21895.txt',\n",
       " 'neg/cv852_27512.txt',\n",
       " 'neg/cv853_29119.txt',\n",
       " 'neg/cv854_18955.txt',\n",
       " 'neg/cv855_22134.txt',\n",
       " 'neg/cv856_28882.txt',\n",
       " 'neg/cv857_17527.txt',\n",
       " 'neg/cv858_20266.txt',\n",
       " 'neg/cv859_15689.txt',\n",
       " 'neg/cv860_15520.txt',\n",
       " 'neg/cv861_12809.txt',\n",
       " 'neg/cv862_15924.txt',\n",
       " 'neg/cv863_7912.txt',\n",
       " 'neg/cv864_3087.txt',\n",
       " 'neg/cv865_28796.txt',\n",
       " 'neg/cv866_29447.txt',\n",
       " 'neg/cv867_18362.txt',\n",
       " 'neg/cv868_12799.txt',\n",
       " 'neg/cv869_24782.txt',\n",
       " 'neg/cv870_18090.txt',\n",
       " 'neg/cv871_25971.txt',\n",
       " 'neg/cv872_13710.txt',\n",
       " 'neg/cv873_19937.txt',\n",
       " 'neg/cv874_12182.txt',\n",
       " 'neg/cv875_5622.txt',\n",
       " 'neg/cv876_9633.txt',\n",
       " 'neg/cv877_29132.txt',\n",
       " 'neg/cv878_17204.txt',\n",
       " 'neg/cv879_16585.txt',\n",
       " 'neg/cv880_29629.txt',\n",
       " 'neg/cv881_14767.txt',\n",
       " 'neg/cv882_10042.txt',\n",
       " 'neg/cv883_27621.txt',\n",
       " 'neg/cv884_15230.txt',\n",
       " 'neg/cv885_13390.txt',\n",
       " 'neg/cv886_19210.txt',\n",
       " 'neg/cv887_5306.txt',\n",
       " 'neg/cv888_25678.txt',\n",
       " 'neg/cv889_22670.txt',\n",
       " 'neg/cv890_3515.txt',\n",
       " 'neg/cv891_6035.txt',\n",
       " 'neg/cv892_18788.txt',\n",
       " 'neg/cv893_26731.txt',\n",
       " 'neg/cv894_22140.txt',\n",
       " 'neg/cv895_22200.txt',\n",
       " 'neg/cv896_17819.txt',\n",
       " 'neg/cv897_11703.txt',\n",
       " 'neg/cv898_1576.txt',\n",
       " 'neg/cv899_17812.txt',\n",
       " 'neg/cv900_10800.txt',\n",
       " 'neg/cv901_11934.txt',\n",
       " 'neg/cv902_13217.txt',\n",
       " 'neg/cv903_18981.txt',\n",
       " 'neg/cv904_25663.txt',\n",
       " 'neg/cv905_28965.txt',\n",
       " 'neg/cv906_12332.txt',\n",
       " 'neg/cv907_3193.txt',\n",
       " 'neg/cv908_17779.txt',\n",
       " 'neg/cv909_9973.txt',\n",
       " 'neg/cv910_21930.txt',\n",
       " 'neg/cv911_21695.txt',\n",
       " 'neg/cv912_5562.txt',\n",
       " 'neg/cv913_29127.txt',\n",
       " 'neg/cv914_2856.txt',\n",
       " 'neg/cv915_9342.txt',\n",
       " 'neg/cv916_17034.txt',\n",
       " 'neg/cv917_29484.txt',\n",
       " 'neg/cv918_27080.txt',\n",
       " 'neg/cv919_18155.txt',\n",
       " 'neg/cv920_29423.txt',\n",
       " 'neg/cv921_13988.txt',\n",
       " 'neg/cv922_10185.txt',\n",
       " 'neg/cv923_11951.txt',\n",
       " 'neg/cv924_29397.txt',\n",
       " 'neg/cv925_9459.txt',\n",
       " 'neg/cv926_18471.txt',\n",
       " 'neg/cv927_11471.txt',\n",
       " 'neg/cv928_9478.txt',\n",
       " 'neg/cv929_1841.txt',\n",
       " 'neg/cv930_14949.txt',\n",
       " 'neg/cv931_18783.txt',\n",
       " 'neg/cv932_14854.txt',\n",
       " 'neg/cv933_24953.txt',\n",
       " 'neg/cv934_20426.txt',\n",
       " 'neg/cv935_24977.txt',\n",
       " 'neg/cv936_17473.txt',\n",
       " 'neg/cv937_9816.txt',\n",
       " 'neg/cv938_10706.txt',\n",
       " 'neg/cv939_11247.txt',\n",
       " 'neg/cv940_18935.txt',\n",
       " 'neg/cv941_10718.txt',\n",
       " 'neg/cv942_18509.txt',\n",
       " 'neg/cv943_23547.txt',\n",
       " 'neg/cv944_15042.txt',\n",
       " 'neg/cv945_13012.txt',\n",
       " 'neg/cv946_20084.txt',\n",
       " 'neg/cv947_11316.txt',\n",
       " 'neg/cv948_25870.txt',\n",
       " 'neg/cv949_21565.txt',\n",
       " 'neg/cv950_13478.txt',\n",
       " 'neg/cv951_11816.txt',\n",
       " 'neg/cv952_26375.txt',\n",
       " 'neg/cv953_7078.txt',\n",
       " 'neg/cv954_19932.txt',\n",
       " 'neg/cv955_26154.txt',\n",
       " 'neg/cv956_12547.txt',\n",
       " 'neg/cv957_9059.txt',\n",
       " 'neg/cv958_13020.txt',\n",
       " 'neg/cv959_16218.txt',\n",
       " 'neg/cv960_28877.txt',\n",
       " 'neg/cv961_5578.txt',\n",
       " 'neg/cv962_9813.txt',\n",
       " 'neg/cv963_7208.txt',\n",
       " 'neg/cv964_5794.txt',\n",
       " 'neg/cv965_26688.txt',\n",
       " 'neg/cv966_28671.txt',\n",
       " 'neg/cv967_5626.txt',\n",
       " 'neg/cv968_25413.txt',\n",
       " 'neg/cv969_14760.txt',\n",
       " 'neg/cv970_19532.txt',\n",
       " 'neg/cv971_11790.txt',\n",
       " 'neg/cv972_26837.txt',\n",
       " 'neg/cv973_10171.txt',\n",
       " 'neg/cv974_24303.txt',\n",
       " 'neg/cv975_11920.txt',\n",
       " 'neg/cv976_10724.txt',\n",
       " 'neg/cv977_4776.txt',\n",
       " 'neg/cv978_22192.txt',\n",
       " 'neg/cv979_2029.txt',\n",
       " 'neg/cv980_11851.txt',\n",
       " 'neg/cv981_16679.txt',\n",
       " 'neg/cv982_22209.txt',\n",
       " 'neg/cv983_24219.txt',\n",
       " 'neg/cv984_14006.txt',\n",
       " 'neg/cv985_5964.txt',\n",
       " 'neg/cv986_15092.txt',\n",
       " 'neg/cv987_7394.txt',\n",
       " 'neg/cv988_20168.txt',\n",
       " 'neg/cv989_17297.txt',\n",
       " 'neg/cv990_12443.txt',\n",
       " 'neg/cv991_19973.txt',\n",
       " 'neg/cv992_12806.txt',\n",
       " 'neg/cv993_29565.txt',\n",
       " 'neg/cv994_13229.txt',\n",
       " 'neg/cv995_23113.txt',\n",
       " 'neg/cv996_12447.txt',\n",
       " 'neg/cv997_5152.txt',\n",
       " 'neg/cv998_15691.txt',\n",
       " 'neg/cv999_14636.txt',\n",
       " ...]"
      ]
     },
     "execution_count": 26,
     "metadata": {},
     "output_type": "execute_result"
    }
   ],
   "source": [
    "movie_reviews.fileids()"
   ]
  },
  {
   "cell_type": "code",
   "execution_count": 27,
   "metadata": {},
   "outputs": [
    {
     "data": {
      "text/plain": [
       "2000"
      ]
     },
     "execution_count": 27,
     "metadata": {},
     "output_type": "execute_result"
    }
   ],
   "source": [
    "len(movie_reviews.fileids())"
   ]
  },
  {
   "cell_type": "code",
   "execution_count": 28,
   "metadata": {
    "collapsed": true
   },
   "outputs": [],
   "source": [
    "reseñasNegativas=movie_reviews.fileids('neg')"
   ]
  },
  {
   "cell_type": "code",
   "execution_count": 29,
   "metadata": {
    "collapsed": true
   },
   "outputs": [],
   "source": [
    "reseñasPositivas=movie_reviews.fileids('pos')"
   ]
  },
  {
   "cell_type": "code",
   "execution_count": 30,
   "metadata": {},
   "outputs": [
    {
     "data": {
      "text/plain": [
       "1000"
      ]
     },
     "execution_count": 30,
     "metadata": {},
     "output_type": "execute_result"
    }
   ],
   "source": [
    "len(reseñasNegativas)"
   ]
  },
  {
   "cell_type": "code",
   "execution_count": 31,
   "metadata": {},
   "outputs": [
    {
     "data": {
      "text/plain": [
       "1000"
      ]
     },
     "execution_count": 31,
     "metadata": {},
     "output_type": "execute_result"
    }
   ],
   "source": [
    "len(reseñasPositivas)"
   ]
  },
  {
   "cell_type": "code",
   "execution_count": 32,
   "metadata": {},
   "outputs": [
    {
     "name": "stdout",
     "output_type": "stream",
     "text": [
      "plot : two teen couples go to a church party , drink and then drive . \n",
      "they get into an accident . \n",
      "one of the guys dies , but his girlfriend continues to see him in her life , and has nightmares . \n",
      "what's the deal ? \n",
      "watch the movie and \" sorta \" find out . . . \n",
      "critique : a mind-fuck movie for the teen generation that touches on a very cool idea , but presents it in a very bad package . \n",
      "which is what makes this review an even harder one to write , since i generally applaud films which attempt to break the mold , mess with your head and such ( lost highway & memento ) , but there are good and bad ways of making all types of films , and these folks just didn't snag this one correctly . \n",
      "they seem to have taken this pretty neat concept , but executed it terribly . \n",
      "so what are the problems with the movie ? \n",
      "well , its main problem is that it's simply too jumbled . \n",
      "it starts off \" normal \" but then downshifts into this \" fantasy \" world in which you , as an audience member , have no idea what's going on . \n",
      "there are dreams , there are characters coming back from the dead , there are others who look like the dead , there are strange apparitions , there are disappearances , there are a looooot of chase scenes , there are tons of weird things that happen , and most of it is simply not explained . \n",
      "now i personally don't mind trying to unravel a film every now and then , but when all it does is give me the same clue over and over again , i get kind of fed up after a while , which is this film's biggest problem . \n",
      "it's obviously got this big secret to hide , but it seems to want to hide it completely until its final five minutes . \n",
      "and do they make things entertaining , thrilling or even engaging , in the meantime ? \n",
      "not really . \n",
      "the sad part is that the arrow and i both dig on flicks like this , so we actually figured most of it out by the half-way point , so all of the strangeness after that did start to make a little bit of sense , but it still didn't the make the film all that more entertaining . \n",
      "i guess the bottom line with movies like this is that you should always make sure that the audience is \" into it \" even before they are given the secret password to enter your world of understanding . \n",
      "i mean , showing melissa sagemiller running away from visions for about 20 minutes throughout the movie is just plain lazy ! ! \n",
      "okay , we get it . . . there \n",
      "are people chasing her and we don't know who they are . \n",
      "do we really need to see it over and over again ? \n",
      "how about giving us different scenes offering further insight into all of the strangeness going down in the movie ? \n",
      "apparently , the studio took this film away from its director and chopped it up themselves , and it shows . \n",
      "there might've been a pretty decent teen mind-fuck movie in here somewhere , but i guess \" the suits \" decided that turning it into a music video with little edge , would make more sense . \n",
      "the actors are pretty good for the most part , although wes bentley just seemed to be playing the exact same character that he did in american beauty , only in a new neighborhood . \n",
      "but my biggest kudos go out to sagemiller , who holds her own throughout the entire film , and actually has you feeling her character's unraveling . \n",
      "overall , the film doesn't stick because it doesn't entertain , it's confusing , it rarely excites and it feels pretty redundant for most of its runtime , despite a pretty cool ending and explanation to all of the craziness that came before it . \n",
      "oh , and by the way , this is not a horror or teen slasher flick . . . it's \n",
      "just packaged to look that way because someone is apparently assuming that the genre is still hot with the kids . \n",
      "it also wrapped production two years ago and has been sitting on the shelves ever since . \n",
      "whatever . . . skip \n",
      "it ! \n",
      "where's joblo coming from ? \n",
      "a nightmare of elm street 3 ( 7/10 ) - blair witch 2 ( 7/10 ) - the crow ( 9/10 ) - the crow : salvation ( 4/10 ) - lost highway ( 10/10 ) - memento ( 10/10 ) - the others ( 9/10 ) - stir of echoes ( 8/10 ) \n",
      "\n"
     ]
    }
   ],
   "source": [
    "print(movie_reviews.raw(fileids=reseñasNegativas[0]))"
   ]
  },
  {
   "cell_type": "code",
   "execution_count": 33,
   "metadata": {},
   "outputs": [
    {
     "data": {
      "text/plain": [
       "['plot', ':', 'two', 'teen', 'couples', 'go', 'to', ...]"
      ]
     },
     "execution_count": 33,
     "metadata": {},
     "output_type": "execute_result"
    }
   ],
   "source": [
    "#.words convierte el texto en un listado donde cada palabra es un elemento\n",
    "movie_reviews.words(fileids=reseñasNegativas[0])"
   ]
  },
  {
   "cell_type": "code",
   "execution_count": 34,
   "metadata": {},
   "outputs": [
    {
     "name": "stdout",
     "output_type": "stream",
     "text": [
      "[nltk_data] Downloading package stopwords to\n",
      "[nltk_data]     C:\\Users\\danie\\AppData\\Roaming\\nltk_data...\n",
      "[nltk_data]   Unzipping corpora\\stopwords.zip.\n"
     ]
    },
    {
     "data": {
      "text/plain": [
       "True"
      ]
     },
     "execution_count": 34,
     "metadata": {},
     "output_type": "execute_result"
    }
   ],
   "source": [
    "#Base de datos de stopwords (palabras que no son representativas en un texto )\n",
    "nltk.download(\"stopwords\")"
   ]
  },
  {
   "cell_type": "code",
   "execution_count": 35,
   "metadata": {
    "collapsed": true
   },
   "outputs": [],
   "source": [
    "import string"
   ]
  },
  {
   "cell_type": "code",
   "execution_count": 36,
   "metadata": {},
   "outputs": [
    {
     "data": {
      "text/plain": [
       "'!\"#$%&\\'()*+,-./:;<=>?@[\\\\]^_`{|}~'"
      ]
     },
     "execution_count": 36,
     "metadata": {},
     "output_type": "execute_result"
    }
   ],
   "source": [
    "string.punctuation"
   ]
  },
  {
   "cell_type": "code",
   "execution_count": 37,
   "metadata": {},
   "outputs": [
    {
     "data": {
      "text/plain": [
       "['i',\n",
       " 'me',\n",
       " 'my',\n",
       " 'myself',\n",
       " 'we',\n",
       " 'our',\n",
       " 'ours',\n",
       " 'ourselves',\n",
       " 'you',\n",
       " 'your',\n",
       " 'yours',\n",
       " 'yourself',\n",
       " 'yourselves',\n",
       " 'he',\n",
       " 'him',\n",
       " 'his',\n",
       " 'himself',\n",
       " 'she',\n",
       " 'her',\n",
       " 'hers',\n",
       " 'herself',\n",
       " 'it',\n",
       " 'its',\n",
       " 'itself',\n",
       " 'they',\n",
       " 'them',\n",
       " 'their',\n",
       " 'theirs',\n",
       " 'themselves',\n",
       " 'what',\n",
       " 'which',\n",
       " 'who',\n",
       " 'whom',\n",
       " 'this',\n",
       " 'that',\n",
       " 'these',\n",
       " 'those',\n",
       " 'am',\n",
       " 'is',\n",
       " 'are',\n",
       " 'was',\n",
       " 'were',\n",
       " 'be',\n",
       " 'been',\n",
       " 'being',\n",
       " 'have',\n",
       " 'has',\n",
       " 'had',\n",
       " 'having',\n",
       " 'do',\n",
       " 'does',\n",
       " 'did',\n",
       " 'doing',\n",
       " 'a',\n",
       " 'an',\n",
       " 'the',\n",
       " 'and',\n",
       " 'but',\n",
       " 'if',\n",
       " 'or',\n",
       " 'because',\n",
       " 'as',\n",
       " 'until',\n",
       " 'while',\n",
       " 'of',\n",
       " 'at',\n",
       " 'by',\n",
       " 'for',\n",
       " 'with',\n",
       " 'about',\n",
       " 'against',\n",
       " 'between',\n",
       " 'into',\n",
       " 'through',\n",
       " 'during',\n",
       " 'before',\n",
       " 'after',\n",
       " 'above',\n",
       " 'below',\n",
       " 'to',\n",
       " 'from',\n",
       " 'up',\n",
       " 'down',\n",
       " 'in',\n",
       " 'out',\n",
       " 'on',\n",
       " 'off',\n",
       " 'over',\n",
       " 'under',\n",
       " 'again',\n",
       " 'further',\n",
       " 'then',\n",
       " 'once',\n",
       " 'here',\n",
       " 'there',\n",
       " 'when',\n",
       " 'where',\n",
       " 'why',\n",
       " 'how',\n",
       " 'all',\n",
       " 'any',\n",
       " 'both',\n",
       " 'each',\n",
       " 'few',\n",
       " 'more',\n",
       " 'most',\n",
       " 'other',\n",
       " 'some',\n",
       " 'such',\n",
       " 'no',\n",
       " 'nor',\n",
       " 'not',\n",
       " 'only',\n",
       " 'own',\n",
       " 'same',\n",
       " 'so',\n",
       " 'than',\n",
       " 'too',\n",
       " 'very',\n",
       " 's',\n",
       " 't',\n",
       " 'can',\n",
       " 'will',\n",
       " 'just',\n",
       " 'don',\n",
       " 'should',\n",
       " 'now',\n",
       " 'd',\n",
       " 'll',\n",
       " 'm',\n",
       " 'o',\n",
       " 're',\n",
       " 've',\n",
       " 'y',\n",
       " 'ain',\n",
       " 'aren',\n",
       " 'couldn',\n",
       " 'didn',\n",
       " 'doesn',\n",
       " 'hadn',\n",
       " 'hasn',\n",
       " 'haven',\n",
       " 'isn',\n",
       " 'ma',\n",
       " 'mightn',\n",
       " 'mustn',\n",
       " 'needn',\n",
       " 'shan',\n",
       " 'shouldn',\n",
       " 'wasn',\n",
       " 'weren',\n",
       " 'won',\n",
       " 'wouldn',\n",
       " '!',\n",
       " '\"',\n",
       " '#',\n",
       " '$',\n",
       " '%',\n",
       " '&',\n",
       " \"'\",\n",
       " '(',\n",
       " ')',\n",
       " '*',\n",
       " '+',\n",
       " ',',\n",
       " '-',\n",
       " '.',\n",
       " '/',\n",
       " ':',\n",
       " ';',\n",
       " '<',\n",
       " '=',\n",
       " '>',\n",
       " '?',\n",
       " '@',\n",
       " '[',\n",
       " '\\\\',\n",
       " ']',\n",
       " '^',\n",
       " '_',\n",
       " '`',\n",
       " '{',\n",
       " '|',\n",
       " '}',\n",
       " '~']"
      ]
     },
     "execution_count": 37,
     "metadata": {},
     "output_type": "execute_result"
    }
   ],
   "source": [
    "#lista de variables que no sirven para un análisis\n",
    "palabrasInutiles=nltk.corpus.stopwords.words(\"english\")+list(string.punctuation)\n",
    "palabrasInutiles"
   ]
  },
  {
   "cell_type": "code",
   "execution_count": 38,
   "metadata": {},
   "outputs": [
    {
     "data": {
      "text/plain": [
       "1.58382"
      ]
     },
     "execution_count": 38,
     "metadata": {},
     "output_type": "execute_result"
    }
   ],
   "source": [
    "palabrasDB=[]\n",
    "for palabra in movie_reviews.words():\n",
    "    palabrasDB.append(palabra)\n",
    "\n",
    "len(palabrasDB)/1e6"
   ]
  },
  {
   "cell_type": "code",
   "execution_count": 39,
   "metadata": {},
   "outputs": [
    {
     "data": {
      "text/plain": [
       "0.710579"
      ]
     },
     "execution_count": 39,
     "metadata": {},
     "output_type": "execute_result"
    }
   ],
   "source": [
    "#Para cada palabra en el archivo, si no se encuentra en las palabras inutiles \n",
    "#agrefar a la lista palabras filtradas\n",
    "palabrasFiltradas=[]\n",
    "for palabra in movie_reviews.words():\n",
    "    if palabra not in palabrasInutiles:\n",
    "        palabrasFiltradas.append(palabra)\n",
    "        \n",
    "len(palabrasFiltradas)/1e6"
   ]
  },
  {
   "cell_type": "code",
   "execution_count": 40,
   "metadata": {
    "collapsed": true
   },
   "outputs": [],
   "source": [
    "from collections import Counter"
   ]
  },
  {
   "cell_type": "code",
   "execution_count": 41,
   "metadata": {
    "collapsed": true
   },
   "outputs": [],
   "source": [
    "contadorPalabras=Counter(palabrasFiltradas)"
   ]
  },
  {
   "cell_type": "code",
   "execution_count": 42,
   "metadata": {
    "collapsed": true
   },
   "outputs": [],
   "source": [
    "palabrasMasComunes=contadorPalabras.most_common()[:20]"
   ]
  },
  {
   "cell_type": "code",
   "execution_count": 43,
   "metadata": {},
   "outputs": [
    {
     "name": "stdout",
     "output_type": "stream",
     "text": [
      "[('film', 9517), ('one', 5852), ('movie', 5771), ('like', 3690), ('even', 2565), ('good', 2411), ('time', 2411), ('story', 2169), ('would', 2109), ('much', 2049), ('character', 2020), ('also', 1967), ('get', 1949), ('two', 1911), ('well', 1906), ('characters', 1859), ('first', 1836), ('--', 1815), ('see', 1749), ('way', 1693)]\n"
     ]
    }
   ],
   "source": [
    "print(palabrasMasComunes)"
   ]
  },
  {
   "cell_type": "code",
   "execution_count": 44,
   "metadata": {
    "collapsed": true
   },
   "outputs": [],
   "source": [
    "%matplotlib inline\n",
    "import matplotlib.pyplot as plt"
   ]
  },
  {
   "cell_type": "code",
   "execution_count": 45,
   "metadata": {},
   "outputs": [
    {
     "data": {
      "text/plain": [
       "<matplotlib.text.Text at 0x2e1b6407dd8>"
      ]
     },
     "execution_count": 45,
     "metadata": {},
     "output_type": "execute_result"
    },
    {
     "data": {
      "image/png": "[encoded data removed]",
      "text/plain": [
       "<matplotlib.figure.Figure at 0x2e1b63f8ac8>"
      ]
     },
     "metadata": {},
     "output_type": "display_data"
    }
   ],
   "source": [
    "contadorOrdenado=sorted(list(contadorPalabras.values()),reverse=True)\n",
    "plt.loglog(contadorOrdenado)\n",
    "plt.ylabel(\"Frecuencia\")\n",
    "plt.xlabel(\"Orden de las palabras\")"
   ]
  },
  {
   "cell_type": "code",
   "execution_count": 46,
   "metadata": {},
   "outputs": [
    {
     "data": {
      "image/png": "[encoded data removed]",
      "text/plain": [
       "<matplotlib.figure.Figure at 0x2e1b6556668>"
      ]
     },
     "metadata": {},
     "output_type": "display_data"
    }
   ],
   "source": [
    "plt.hist(contadorOrdenado, bins=50, log=True);"
   ]
  },
  {
   "cell_type": "code",
   "execution_count": 47,
   "metadata": {
    "collapsed": true
   },
   "outputs": [],
   "source": [
    "def construirBolsaDePalabras(palabras):\n",
    "    diccionario={}\n",
    "    for palabra in palabras:\n",
    "        if palabra not in palabrasInutiles:\n",
    "            diccionario[palabra]=1\n",
    "    return diccionario"
   ]
  },
  {
   "cell_type": "code",
   "execution_count": 48,
   "metadata": {
    "collapsed": true
   },
   "outputs": [],
   "source": [
    "rasgosNegativos=[]\n",
    "for f in reseñasNegativas:\n",
    "    rasgosNegativos.append((construirBolsaDePalabras(movie_reviews.words(fileids=[f])),\"neg\"))"
   ]
  },
  {
   "cell_type": "code",
   "execution_count": 49,
   "metadata": {},
   "outputs": [
    {
     "name": "stdout",
     "output_type": "stream",
     "text": [
      "({'first': 1, 'clue': 1, 'something': 1, 'gonna': 1, 'quite': 1, 'right': 1, 'movie': 1, 'see': 1, 'heavily': 1, 'christmas': 1, 'themed': 1, 'release': 1, 'date': 1, 'oh': 1, 'say': 1, 'end': 1, 'february': 1, 'second': 1, 'charlize': 1, 'theron': 1, 'one': 1, 'dubious': 1, 'stars': 1, 'makes': 1, 'appearance': 1, 'daily': 1, 'show': 1, 'asked': 1, 'new': 1, 'good': 1, 'replies': 1, 'equivalent': 1, 'verbal': 1, 'sigh': 1, 'assuring': 1, 'us': 1, 'yeah': 1, 'sure': 1, 'scenes': 1, 'like': 1, 'expect': 1, 'find': 1, 'action': 1, 'stuff': 1, 'immediately': 1, 'grab': 1, 'attention': 1, 'open': 1, 'five': 1, 'dead': 1, 'guys': 1, 'santa': 1, 'claus': 1, 'suits': 1, 'caption': 1, 'reading': 1, 'six': 1, 'days': 1, 'earlier': 1, 'ya': 1, 'know': 1, 'honestly': 1, 'interested': 1, 'killed': 1, 'poor': 1, 'santas': 1, 'lose': 1, 'follow': 1, 'opening': 1, 'scene': 1, 'terminally': 1, 'dull': 1, 'nice': 1, 'deserve': 1, 'prison': 1, 'write': 1, 'line': 1, 'prisoners': 1, 'want': 1, 'go': 1, 'home': 1, 'eat': 1, 'dinner': 1, 'watch': 1, 'ball': 1, 'dad': 1, 'ben': 1, 'affleck': 1, 'actually': 1, 'film': 1, 'forget': 1, 'leave': 1, 'cutting': 1, 'room': 1, 'floor': 1, 'measure': 1, 'throw': 1, 'poorly': 1, 'motivated': 1, 'riot': 1, 'best': 1, 'buddy': 1, 'stabbed': 1, 'aw': 1, 'two': 1, 'already': 1, 'cliches': 1, 'piled': 1, 'thick': 1, 'rains': 1, 'pours': 1, 'take': 1, 'dash': 1, 'violently': 1, 'rocks': 1, 'make': 1, 'contemplating': 1, 'strategy': 1, 'calling': 1, 'shotgun': 1, 'hour': 1, 'credits': 1, 'roll': 1, 'deny': 1, 'characters': 1, 'ability': 1, 'think': 1, 'reason': 1, 'never': 1, 'understand': 1, 'pretend': 1, 'get': 1, 'girlfriend': 1, 'played': 1, 'gary': 1, 'sinise': 1, 'force': 1, 'participate': 1, 'planned': 1, 'casino': 1, 'heist': 1, 'villains': 1, 'big': 1, 'idea': 1, 'kidnap': 1, 'used': 1, 'security': 1, 'guard': 1, 'tell': 1, 'doors': 1, 'place': 1, 'dress': 1, 'create': 1, 'diversions': 1, 'rob': 1, 'paper': 1, 'seems': 1, 'potential': 1, 'caper': 1, 'comedy': 1, 'veteran': 1, 'director': 1, 'john': 1, 'frankenheimer': 1, 'wrongly': 1, 'picks': 1, 'piece': 1, 'thinks': 1, 'looking': 1, 'makings': 1, 'sort': 1, 'clever': 1, 'crime': 1, 'thriller': 1, 'man': 1, 'capable': 1, 'far': 1, 'responsible': 1, 'classic': 1, 'political': 1, 'thrillers': 1, 'manchurian': 1, 'candidate': 1, 'seven': 1, 'may': 1, 'wowed': 1, 'memorable': 1, 'car': 1, 'chases': 1, 'ever': 1, 'seen': 1, 'last': 1, 'year': 1, 'ronin': 1, 'certainly': 1, 'guilty': 1, 'churning': 1, 'certifiable': 1, 'losers': 1, 'put': 1, 'reindeer': 1, 'games': 1, 'shelf': 1, 'shame': 1, '1996': 1, 'version': 1, 'island': 1, 'dr': 1, 'moreau': 1, 'step': 1, 'making': 1, 'easily': 1, 'forgotten': 1, 'possible': 1, 'cast': 1, 'role': 1, 'world': 1, 'generic': 1, 'hero': 1, 'gets': 1, 'liners': 1, 'shoot': 1, 'implode': 1, 'anything': 1, 'interesting': 1, 'ways': 1, 'regrets': 1, 'past': 1, 'thief': 1, 'wants': 1, 'cup': 1, 'hot': 1, 'chocolate': 1, 'pecan': 1, 'pie': 1, 'name': 1, 'rudy': 1, 'short': 1, 'rudolph': 1, 'likelihood': 1, 'called': 1, 'shut': 1, 'supporting': 1, 'actor': 1, 'nothing': 1, 'viability': 1, 'leading': 1, 'villain': 1, 'dresses': 1, 'looks': 1, 'standard': 1, 'crook': 1, 'filmmaker': 1, 'could': 1, 'dirty': 1, 'potty': 1, 'mouthed': 1, 'got': 1, 'long': 1, 'scruffy': 1, 'hair': 1, 'goatee': 1, 'fully': 1, 'expected': 1, 'walk': 1, 'carrying': 1, 'sacks': 1, 'giant': 1, 'dollar': 1, 'signs': 1, 'also': 1, 'extremely': 1, 'inept': 1, 'garish': 1, 'cowboy': 1, 'costumes': 1, 'acceptable': 1, 'disguises': 1, 'trusts': 1, 'character': 1, 'pull': 1, 'even': 1, 'time': 1, 'tricks': 1, 'lies': 1, 'nearly': 1, 'kills': 1, 'instead': 1, 'tapping': 1, 'comic': 1, 'possibilities': 1, 'playing': 1, 'tough': 1, 'smart': 1, 'smooth': 1, 'criminal': 1, 'mastermind': 1, 'rather': 1, 'complete': 1, 'moron': 1, 'obviously': 1, 'written': 1, 'script': 1, 'side': 1, 'note': 1, 'wins': 1, 'week': 1, 'title': 1, 'award': 1, 'awkwardly': 1, 'cram': 1, 'lines': 1, 'early': 1, 'proceedings': 1, 'winner': 1, 'natasha': 1, 'henstridge': 1, 'whole': 1, 'nine': 1, 'yards': 1, 'bad': 1, 'things': 1, 'worse': 1, 'include': 1, 'three': 1, 'plot': 1, 'twists': 1, 'apparently': 1, 'stupidity': 1, 'plan': 1, 'seem': 1, 'suddenly': 1, 'intelligent': 1, 'ridiculous': 1, 'unlikely': 1, 'except': 1, 'moments': 1, 'near': 1, 'stunning': 1, 'conclusion': 1, 'preposterous': 1, 'replaced': 1, 'ludicrously': 1, 'really': 1, 'gives': 1, 'satisfaction': 1, 'laughably': 1, 'done': 1, 'much': 1, 'least': 1, 'would': 1, 'entertained': 1}, 'neg')\n"
     ]
    }
   ],
   "source": [
    "print(rasgosNegativos[300])"
   ]
  },
  {
   "cell_type": "code",
   "execution_count": 50,
   "metadata": {
    "collapsed": true
   },
   "outputs": [],
   "source": [
    "rasgosPositivos=[]\n",
    "for f in reseñasPositivas:\n",
    "    rasgosPositivos.append((construirBolsaDePalabras(movie_reviews.words(fileids=[f])),\"pos\"))"
   ]
  },
  {
   "cell_type": "code",
   "execution_count": 51,
   "metadata": {},
   "outputs": [
    {
     "name": "stdout",
     "output_type": "stream",
     "text": [
      "({'films': 1, 'adapted': 1, 'comic': 1, 'books': 1, 'plenty': 1, 'success': 1, 'whether': 1, 'superheroes': 1, 'batman': 1, 'superman': 1, 'spawn': 1, 'geared': 1, 'toward': 1, 'kids': 1, 'casper': 1, 'arthouse': 1, 'crowd': 1, 'ghost': 1, 'world': 1, 'never': 1, 'really': 1, 'book': 1, 'like': 1, 'hell': 1, 'starters': 1, 'created': 1, 'alan': 1, 'moore': 1, 'eddie': 1, 'campbell': 1, 'brought': 1, 'medium': 1, 'whole': 1, 'new': 1, 'level': 1, 'mid': 1, '80s': 1, '12': 1, 'part': 1, 'series': 1, 'called': 1, 'watchmen': 1, 'say': 1, 'thoroughly': 1, 'researched': 1, 'subject': 1, 'jack': 1, 'ripper': 1, 'would': 1, 'saying': 1, 'michael': 1, 'jackson': 1, 'starting': 1, 'look': 1, 'little': 1, 'odd': 1, 'graphic': 1, 'novel': 1, '500': 1, 'pages': 1, 'long': 1, 'includes': 1, 'nearly': 1, '30': 1, 'consist': 1, 'nothing': 1, 'footnotes': 1, 'words': 1, 'dismiss': 1, 'film': 1, 'source': 1, 'get': 1, 'past': 1, 'thing': 1, 'might': 1, 'find': 1, 'another': 1, 'stumbling': 1, 'block': 1, 'directors': 1, 'albert': 1, 'allen': 1, 'hughes': 1, 'getting': 1, 'brothers': 1, 'direct': 1, 'seems': 1, 'almost': 1, 'ludicrous': 1, 'casting': 1, 'carrot': 1, 'top': 1, 'well': 1, 'anything': 1, 'riddle': 1, 'better': 1, 'set': 1, 'ghetto': 1, 'features': 1, 'violent': 1, 'street': 1, 'crime': 1, 'mad': 1, 'geniuses': 1, 'behind': 1, 'menace': 1, 'ii': 1, 'society': 1, 'question': 1, 'course': 1, 'whitechapel': 1, '1888': 1, 'london': 1, 'east': 1, 'end': 1, 'filthy': 1, 'sooty': 1, 'place': 1, 'whores': 1, 'unfortunates': 1, 'nervous': 1, 'mysterious': 1, 'psychopath': 1, 'carving': 1, 'profession': 1, 'surgical': 1, 'precision': 1, 'first': 1, 'stiff': 1, 'turns': 1, 'copper': 1, 'peter': 1, 'godley': 1, 'robbie': 1, 'coltrane': 1, 'enough': 1, 'calls': 1, 'inspector': 1, 'frederick': 1, 'abberline': 1, 'johnny': 1, 'depp': 1, 'blow': 1, 'crack': 1, 'case': 1, 'widower': 1, 'prophetic': 1, 'dreams': 1, 'unsuccessfully': 1, 'tries': 1, 'quell': 1, 'copious': 1, 'amounts': 1, 'absinthe': 1, 'opium': 1, 'upon': 1, 'arriving': 1, 'befriends': 1, 'unfortunate': 1, 'named': 1, 'mary': 1, 'kelly': 1, 'heather': 1, 'graham': 1, 'proceeds': 1, 'investigate': 1, 'horribly': 1, 'gruesome': 1, 'crimes': 1, 'even': 1, 'police': 1, 'surgeon': 1, 'stomach': 1, 'think': 1, 'anyone': 1, 'needs': 1, 'briefed': 1, 'go': 1, 'particulars': 1, 'unique': 1, 'interesting': 1, 'theory': 1, 'identity': 1, 'killer': 1, 'reasons': 1, 'chooses': 1, 'slay': 1, 'bother': 1, 'cloaking': 1, 'screenwriters': 1, 'terry': 1, 'hayes': 1, 'vertical': 1, 'limit': 1, 'rafael': 1, 'yglesias': 1, 'les': 1, 'mis': 1, 'rables': 1, 'good': 1, 'job': 1, 'keeping': 1, 'hidden': 1, 'viewers': 1, 'funny': 1, 'watch': 1, 'locals': 1, 'blindly': 1, 'point': 1, 'finger': 1, 'blame': 1, 'jews': 1, 'indians': 1, 'englishman': 1, 'could': 1, 'capable': 1, 'committing': 1, 'ghastly': 1, 'acts': 1, 'ending': 1, 'whistling': 1, 'stonecutters': 1, 'song': 1, 'simpsons': 1, 'days': 1, 'holds': 1, 'back': 1, 'electric': 1, 'car': 1, 'made': 1, 'steve': 1, 'guttenberg': 1, 'star': 1, 'worry': 1, 'make': 1, 'sense': 1, 'see': 1, 'onto': 1, 'appearance': 1, 'certainly': 1, 'dark': 1, 'bleak': 1, 'surprising': 1, 'much': 1, 'looks': 1, 'tim': 1, 'burton': 1, 'planet': 1, 'apes': 1, 'times': 1, 'sleepy': 1, 'hollow': 1, '2': 1, 'print': 1, 'saw': 1, 'completely': 1, 'finished': 1, 'color': 1, 'music': 1, 'finalized': 1, 'comments': 1, 'marilyn': 1, 'manson': 1, 'cinematographer': 1, 'deming': 1, 'word': 1, 'ably': 1, 'captures': 1, 'dreariness': 1, 'victorian': 1, 'era': 1, 'helped': 1, 'flashy': 1, 'killing': 1, 'scenes': 1, 'remind': 1, 'crazy': 1, 'flashbacks': 1, 'twin': 1, 'peaks': 1, 'though': 1, 'violence': 1, 'pales': 1, 'comparison': 1, 'black': 1, 'white': 1, 'oscar': 1, 'winner': 1, 'martin': 1, 'childs': 1, 'shakespeare': 1, 'love': 1, 'production': 1, 'design': 1, 'original': 1, 'prague': 1, 'surroundings': 1, 'one': 1, 'creepy': 1, 'acting': 1, 'solid': 1, 'dreamy': 1, 'turning': 1, 'typically': 1, 'strong': 1, 'performance': 1, 'deftly': 1, 'handling': 1, 'british': 1, 'accent': 1, 'ians': 1, 'holm': 1, 'joe': 1, 'gould': 1, 'secret': 1, 'richardson': 1, '102': 1, 'dalmatians': 1, 'log': 1, 'great': 1, 'supporting': 1, 'roles': 1, 'big': 1, 'surprise': 1, 'cringed': 1, 'time': 1, 'opened': 1, 'mouth': 1, 'imagining': 1, 'attempt': 1, 'irish': 1, 'actually': 1, 'half': 1, 'bad': 1, 'however': 1, '00': 1, 'r': 1, 'gore': 1, 'sexuality': 1, 'language': 1, 'drug': 1, 'content': 1}, 'pos')\n"
     ]
    }
   ],
   "source": [
    "print(rasgosPositivos[0])"
   ]
  },
  {
   "cell_type": "code",
   "execution_count": 52,
   "metadata": {
    "collapsed": true
   },
   "outputs": [],
   "source": [
    "from nltk.classify import NaiveBayesClassifier #Clasificador supervisado"
   ]
  },
  {
   "cell_type": "code",
   "execution_count": 53,
   "metadata": {
    "collapsed": true
   },
   "outputs": [],
   "source": [
    "# De los 1000 rev - y + se van a utilizar 800 de c/u para el entrenaminto y\n",
    "# los 200 restantes para prueba\n",
    "division=800"
   ]
  },
  {
   "cell_type": "code",
   "execution_count": 54,
   "metadata": {
    "collapsed": true
   },
   "outputs": [],
   "source": [
    "# la función train recibe como argumento un tuple con un diccionario y una etiqueta\n",
    "clasificadorSentimientos=NaiveBayesClassifier.train(rasgosPositivos[:division]+rasgosNegativos[:division])"
   ]
  },
  {
   "cell_type": "code",
   "execution_count": 55,
   "metadata": {},
   "outputs": [
    {
     "data": {
      "text/plain": [
       "0.980625"
      ]
     },
     "execution_count": 55,
     "metadata": {},
     "output_type": "execute_result"
    }
   ],
   "source": [
    "nltk.classify.util.accuracy(clasificadorSentimientos,rasgosPositivos[:division]+rasgosNegativos[:division])"
   ]
  },
  {
   "cell_type": "code",
   "execution_count": 56,
   "metadata": {},
   "outputs": [
    {
     "data": {
      "text/plain": [
       "0.7175"
      ]
     },
     "execution_count": 56,
     "metadata": {},
     "output_type": "execute_result"
    }
   ],
   "source": [
    "nltk.classify.util.accuracy(clasificadorSentimientos,rasgosPositivos[division:]+rasgosNegativos[division:])"
   ]
  },
  {
   "cell_type": "code",
   "execution_count": 57,
   "metadata": {},
   "outputs": [
    {
     "name": "stdout",
     "output_type": "stream",
     "text": [
      "Most Informative Features\n",
      "             outstanding = 1                 pos : neg    =     13.9 : 1.0\n",
      "               insulting = 1                 neg : pos    =     13.7 : 1.0\n",
      "              vulnerable = 1                 pos : neg    =     13.0 : 1.0\n",
      "               ludicrous = 1                 neg : pos    =     12.6 : 1.0\n",
      "             uninvolving = 1                 neg : pos    =     12.3 : 1.0\n",
      "              astounding = 1                 pos : neg    =     11.7 : 1.0\n",
      "                  avoids = 1                 pos : neg    =     11.7 : 1.0\n",
      "             fascination = 1                 pos : neg    =     11.0 : 1.0\n",
      "                    anna = 1                 pos : neg    =     10.3 : 1.0\n",
      "                  seagal = 1                 neg : pos    =     10.3 : 1.0\n"
     ]
    }
   ],
   "source": [
    "clasificadorSentimientos.show_most_informative_features()"
   ]
  },
  {
   "cell_type": "code",
   "execution_count": 64,
   "metadata": {
    "collapsed": true
   },
   "outputs": [],
   "source": [
    "texto=\"Este curso es un muy buen curso\""
   ]
  },
  {
   "cell_type": "code",
   "execution_count": 65,
   "metadata": {
    "collapsed": true
   },
   "outputs": [],
   "source": [
    "from nltk import tokenize"
   ]
  },
  {
   "cell_type": "code",
   "execution_count": 66,
   "metadata": {
    "collapsed": true
   },
   "outputs": [],
   "source": [
    "textoTokenizado=tokenize.casual_tokenize(texto)"
   ]
  },
  {
   "cell_type": "code",
   "execution_count": 67,
   "metadata": {},
   "outputs": [],
   "source": [
    "bolsa=construirBolsaDePalabras(textoTokenizado)"
   ]
  },
  {
   "cell_type": "code",
   "execution_count": 68,
   "metadata": {},
   "outputs": [
    {
     "name": "stdout",
     "output_type": "stream",
     "text": [
      "{'Este': 1, 'curso': 1, 'es': 1, 'un': 1, 'muy': 1, 'buen': 1}\n"
     ]
    }
   ],
   "source": [
    "print(bolsa)"
   ]
  },
  {
   "cell_type": "code",
   "execution_count": 69,
   "metadata": {},
   "outputs": [
    {
     "data": {
      "text/plain": [
       "'neg'"
      ]
     },
     "execution_count": 69,
     "metadata": {},
     "output_type": "execute_result"
    }
   ],
   "source": [
    "clasificadorSentimientos.classify(bolsa)"
   ]
  },
  {
   "cell_type": "code",
   "execution_count": null,
   "metadata": {
    "collapsed": true
   },
   "outputs": [],
   "source": []
  }
 ],
 "metadata": {
  "kernelspec": {
   "display_name": "Python 3",
   "language": "python",
   "name": "python3"
  },
  "language_info": {
   "codemirror_mode": {
    "name": "ipython",
    "version": 3
   },
   "file_extension": ".py",
   "mimetype": "text/x-python",
   "name": "python",
   "nbconvert_exporter": "python",
   "pygments_lexer": "ipython3",
   "version": "3.7.6"
  }
 },
 "nbformat": 4,
 "nbformat_minor": 2
}
