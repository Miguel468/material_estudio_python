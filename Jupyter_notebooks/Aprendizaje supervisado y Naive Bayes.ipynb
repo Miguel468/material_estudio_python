{
 "cells": [
  {
   "cell_type": "markdown",
   "metadata": {},
   "source": [
    "# Aprendizaje Supervisado\n",
    "\n",
    "El aprendizaje de máquina se puede dividir en 2 grandes tipos de aprendizaje: Supervisado y No supervisado\n",
    "\n",
    "**No supervisado** : La información no está clasificada o no tiene rótulos (labels)\n",
    "\n",
    "**Supervisado** : la información está clasificada claramente con rótulos (labels)\n",
    "\n",
    "El objetivo de los algoritmos de aprendizaje supervisado es predecir el comportamiento de un sistema a partir de un set de datos que tienen comportamientos que representan una funcion especifica.\n",
    "\n",
    "\n",
    "<img src=\"dog.jpg\" width = 400px>"
   ]
  },
  {
   "cell_type": "markdown",
   "metadata": {},
   "source": [
    "# Aprendizaje usando texto\n",
    "\n",
    "Después del triunfo 3-2 ante Millonarios en el Atanasio Girardot, Nacional quedó pendiente de disputar 9 partidos, 4 de ellos como local. Si mantiene su rendimiento, que es del 66.6 por ciento, no tendrá problemas para asegurarse entre los 8 mejores de la Liga Águila-2\n",
    "\n",
    "a) Politica\n",
    "\n",
    "b) ciencia\n",
    "\n",
    "c) deportes\n",
    "\n",
    "d) tecnologia"
   ]
  },
  {
   "cell_type": "markdown",
   "metadata": {},
   "source": [
    "# Naive Bayes\n",
    "\n",
    "Es un algoritmo que se basa en la ley de probabilidad condicional de Bayes.\n",
    "\n",
    "Este algoritmo es muy bueno para procesar texto.\n",
    "\n",
    "No es muy bueno para frases que tienen significados diferentes, como por ejemplo \"Manchester United\", que es un equipo de futbol y no es ni una ciudad ni una palabra de unidad.\n",
    "\n",
    "Para usar este algoritmo (y otros) debemos de seguir siempre 4 pasos:\n",
    "\n",
    "1. importar el algoritmo\n",
    "2. Crear el clasificador\n",
    "3. Entrenar el clasificador\n",
    "4. Hacer predicciones\n",
    "\n",
    "En Scikit learn el algoritmo se conoce como GaussianNB"
   ]
  },
  {
   "cell_type": "code",
   "execution_count": 1,
   "metadata": {
    "collapsed": true
   },
   "outputs": [],
   "source": [
    "#1. importar el algoritmo\n",
    "from sklearn.naive_bayes import GaussianNB\n",
    "import numpy as np"
   ]
  },
  {
   "cell_type": "code",
   "execution_count": 2,
   "metadata": {
    "collapsed": true
   },
   "outputs": [],
   "source": [
    "#creamos un ejemplo para clasificar caballos y zebras segun su largo y alto\n",
    "# X van a ser los atributos de nuestro set de datos\n",
    "#supongamos que tenemos los datos de 2 caracteristicas de cada animal\n",
    "X = np.array([[2.1, 2.0], [2.3, 1.9], [2, 2.5], [1.9, 2.6], [2.0, 2.2], [2.0, 2.0]])\n",
    "\n",
    "# en la variable Y vamos a tener los rotulos de nuestros animales\n",
    "# 1 es caballo y 2 es zebra\n",
    "Y = np.array([1, 1, 2, 2, 2, 1])"
   ]
  },
  {
   "cell_type": "code",
   "execution_count": 3,
   "metadata": {
    "collapsed": true
   },
   "outputs": [],
   "source": [
    "#2 Creamos el clasificador\n",
    "clf = GaussianNB()"
   ]
  },
  {
   "cell_type": "code",
   "execution_count": 4,
   "metadata": {},
   "outputs": [
    {
     "data": {
      "text/plain": [
       "GaussianNB(priors=None)"
      ]
     },
     "execution_count": 4,
     "metadata": {},
     "output_type": "execute_result"
    }
   ],
   "source": [
    "#3 Entrenamos el clasificador con la funcion fit\n",
    "#la funcion fit recibe como argumento, los datos con los que queremos entrenar nuestro algortimo\n",
    "clf.fit(X, Y)"
   ]
  },
  {
   "cell_type": "code",
   "execution_count": 5,
   "metadata": {},
   "outputs": [
    {
     "name": "stdout",
     "output_type": "stream",
     "text": [
      "[2]\n"
     ]
    }
   ],
   "source": [
    "#4 Hagamos una predicción\n",
    "print(clf.predict([[2.0, 2.1]]))"
   ]
  },
  {
   "cell_type": "code",
   "execution_count": 6,
   "metadata": {},
   "outputs": [
    {
     "data": {
      "text/plain": [
       "array([2])"
      ]
     },
     "execution_count": 6,
     "metadata": {},
     "output_type": "execute_result"
    }
   ],
   "source": [
    "# Hagamos otra predicción\n",
    "clf.predict([[2.1, 2.5]])"
   ]
  },
  {
   "cell_type": "code",
   "execution_count": null,
   "metadata": {
    "collapsed": true
   },
   "outputs": [],
   "source": []
  }
 ],
 "metadata": {
  "kernelspec": {
   "display_name": "Python 3",
   "language": "python",
   "name": "python3"
  },
  "language_info": {
   "codemirror_mode": {
    "name": "ipython",
    "version": 3
   },
   "file_extension": ".py",
   "mimetype": "text/x-python",
   "name": "python",
   "nbconvert_exporter": "python",
   "pygments_lexer": "ipython3",
   "version": "3.7.6"
  }
 },
 "nbformat": 4,
 "nbformat_minor": 2
}
